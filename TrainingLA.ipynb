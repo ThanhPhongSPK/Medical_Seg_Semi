{
 "cells": [
  {
   "cell_type": "code",
   "execution_count": 27,
   "metadata": {},
   "outputs": [],
   "source": [
    "import numpy as np \n",
    "import h5py\n",
    "import os \n",
    "\n",
    "import torch \n",
    "from torch.utils.data import Dataset, DataLoader\n",
    "import torchvision.transforms as transforms"
   ]
  },
  {
   "cell_type": "code",
   "execution_count": 20,
   "metadata": {},
   "outputs": [],
   "source": [
    "import os\n",
    "import h5py\n",
    "from torch.utils.data import Dataset\n",
    "\n",
    "class LAHeart(Dataset):\n",
    "    def __init__(self, base_dir, split='train', transform=None, num=None):\n",
    "        self._base_dir = base_dir\n",
    "        self.split = split\n",
    "        self.transform = transform\n",
    "        self.sample_list = []\n",
    "        \n",
    "        # Path for train/test list\n",
    "        list_file = os.path.join(self._base_dir, f\"{split}.list\")\n",
    "        if not os.path.isfile(list_file):\n",
    "            raise ValueError(f\"The {split} list file is missing: {list_file}\")\n",
    "        \n",
    "        with open(list_file, 'r') as file:\n",
    "            self.sample_list = [item.strip() for item in file.readlines()]\n",
    "        \n",
    "        if num is not None:\n",
    "            self.sample_list = self.sample_list[:num]\n",
    "\n",
    "        print(f\"Mode = {self.split}, total samples: {len(self.sample_list)}\")\n",
    "\n",
    "    def __len__(self):\n",
    "        return len(self.sample_list)\n",
    "\n",
    "    def __getitem__(self, index):\n",
    "        case = self.sample_list[index]\n",
    "        file_path = os.path.join(self._base_dir, f'2018LA_Seg_Training Set/{case}/mri_norm2.h5')\n",
    "        \n",
    "        # Load data safely\n",
    "        try:\n",
    "            with h5py.File(file_path, 'r') as h5f:\n",
    "                image = h5f['image'][:]\n",
    "                label = h5f['label'][:]\n",
    "        except FileNotFoundError:\n",
    "            raise FileNotFoundError(f\"File not found: {file_path}\")\n",
    "        \n",
    "        sample = {'image': image, 'label': label}\n",
    "        if self.transform:\n",
    "            sample = self.transform(sample)\n",
    "        \n",
    "        return sample\n"
   ]
  },
  {
   "cell_type": "code",
   "execution_count": 29,
   "metadata": {},
   "outputs": [],
   "source": [
    "def random_rot_flip(image, label): \n",
    "    k = np.random.randint(0, 4, 1) \n",
    "    image = np.rot90(image, k) \n",
    "    label = np.rot90(label, k) \n",
    "\n",
    "    axis = np.random.randint(0, 2)\n",
    "    image = np.flip(image, axis) \n",
    "    label = np.flip(label, axis) \n",
    "\n",
    "    return image, label \n",
    "\n",
    "class RandomRotFlip: \n",
    "    def __call__(self, sample): \n",
    "        image, label = sample['image'], sample['label']\n",
    "        image, label = random_rot_flip(image, label) \n",
    "        sample = {'image': image, 'label': label}\n",
    "\n",
    "        return sample "
   ]
  },
  {
   "cell_type": "code",
   "execution_count": 30,
   "metadata": {},
   "outputs": [],
   "source": [
    "# randomcrop "
   ]
  },
  {
   "cell_type": "code",
   "execution_count": null,
   "metadata": {},
   "outputs": [
    {
     "name": "stdout",
     "output_type": "stream",
     "text": [
      "Mode = train, total samples: 80\n",
      "Image.shape = torch.Size([1, 183, 141, 88])\n",
      "Label.shape = torch.Size([1, 183, 141, 88])\n"
     ]
    }
   ],
   "source": [
    "data_transform = transforms.Compose([\n",
    "    transforms.RandomRot\n",
    "])\n",
    "train_db = LAHeart(\n",
    "    base_dir= 'LA', \n",
    "    split= 'train'\n",
    ")\n",
    "\n",
    "trainloader = DataLoader(train_db, batch_size= 1, shuffle= True)\n",
    "for i, batch in enumerate(trainloader): \n",
    "    image, label = batch['image'], batch['label']\n",
    "    print(f'Image.shape = {image.shape}')\n",
    "    print(f'Label.shape = {label.shape}')\n",
    "\n",
    "    if i == 0: \n",
    "        break "
   ]
  },
  {
   "cell_type": "code",
   "execution_count": null,
   "metadata": {},
   "outputs": [],
   "source": []
  }
 ],
 "metadata": {
  "kernelspec": {
   "display_name": "DeepLearning",
   "language": "python",
   "name": "python3"
  },
  "language_info": {
   "codemirror_mode": {
    "name": "ipython",
    "version": 3
   },
   "file_extension": ".py",
   "mimetype": "text/x-python",
   "name": "python",
   "nbconvert_exporter": "python",
   "pygments_lexer": "ipython3",
   "version": "3.12.5"
  }
 },
 "nbformat": 4,
 "nbformat_minor": 2
}
