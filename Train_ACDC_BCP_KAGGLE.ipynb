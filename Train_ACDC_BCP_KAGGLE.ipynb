{
 "cells": [
  {
   "cell_type": "code",
   "execution_count": 1,
   "metadata": {},
   "outputs": [
    {
     "name": "stdout",
     "output_type": "stream",
     "text": [
      "Requirement already satisfied: medpy in /home/lequocthinh/miniconda3/envs/DeepLearning/lib/python3.12/site-packages (0.5.2)\n",
      "Requirement already satisfied: scipy>=1.10 in /home/lequocthinh/miniconda3/envs/DeepLearning/lib/python3.12/site-packages (from medpy) (1.14.1)\n",
      "Requirement already satisfied: numpy>=1.24 in /home/lequocthinh/miniconda3/envs/DeepLearning/lib/python3.12/site-packages (from medpy) (1.26.4)\n",
      "Requirement already satisfied: SimpleITK>=2.1 in /home/lequocthinh/miniconda3/envs/DeepLearning/lib/python3.12/site-packages (from medpy) (2.4.0)\n"
     ]
    }
   ],
   "source": [
    "!pip install medpy"
   ]
  },
  {
   "cell_type": "code",
   "execution_count": 1,
   "metadata": {},
   "outputs": [],
   "source": [
    "import numpy as np \n",
    "import pandas as pd \n",
    "import matplotlib.pyplot as plt \n",
    "import h5py\n",
    "import os \n",
    "from scipy.ndimage import zoom, rotate\n",
    "import random \n",
    "# torch \n",
    "import torch \n",
    "from torch.utils.data import Dataset \n",
    "from torch.utils.data import DataLoader\n",
    "from torch.utils.data import Sampler\n",
    "import torch.optim as optim \n",
    "import sys\n",
    "\n",
    "import itertools\n",
    "import torchvision.transforms as transforms \n",
    "import torch.nn as nn \n",
    "import torch.nn.functional as F \n",
    "from medpy import metric \n",
    "from skimage.measure import label \n",
    "import logging\n",
    "from tqdm import tqdm\n",
    "import torch.backends.cudnn as cudnn\n",
    "from torch.nn import CrossEntropyLoss\n",
    "from tensorboardX import SummaryWriter"
   ]
  },
  {
   "cell_type": "markdown",
   "metadata": {},
   "source": [
    "#### 1. ACDC Dataset"
   ]
  },
  {
   "cell_type": "code",
   "execution_count": 3,
   "metadata": {},
   "outputs": [],
   "source": [
    "class BaseDataset(Dataset): \n",
    "    def __init__(self, root_path, split= 'train', transform= None, num= None): \n",
    "        \"\"\"\n",
    "        Use to load name of file.list \n",
    "\n",
    "        \"\"\"\n",
    "        self.root_path = root_path\n",
    "        self.split = split \n",
    "        self.transform = transform\n",
    "        self.sample_list = []\n",
    "\n",
    "        if split == 'train': \n",
    "            file_name = os.path.join(self.root_path, 'train_slices.list')\n",
    "            with open(file_name, 'r') as file: \n",
    "                self.sample_list = file.readlines() \n",
    "            \n",
    "            self.sample_list = [item.replace('\\n', '') for item in self.sample_list]\n",
    "            # print(self.sample_list)\n",
    "        elif split == 'val': \n",
    "            file_name = os.path.join(self.root_path, 'val.list')\n",
    "            with open(file_name, 'r') as file: \n",
    "                self.sample_list = file.readlines() \n",
    "            \n",
    "            self.sample_list = [item.replace('\\n','') for item in self.sample_list]\n",
    "            # print(self.sample_list)\n",
    "        \n",
    "        else: \n",
    "            raise ValueError(f'Mode: {self.split} is not supported')\n",
    "        \n",
    "\n",
    "        if isinstance(num, int): \n",
    "            self.sample_list = self.sample_list[:num]\n",
    "        \n",
    "        print(f'Total slices: {len(self.sample_list)}')\n",
    "        \n",
    "\n",
    "    def __len__(self): \n",
    "        return len(self.sample_list)\n",
    "\n",
    "    def __getitem__(self, index):\n",
    "        case = self.sample_list[index]\n",
    "\n",
    "        # open the file.h5 \n",
    "        if self.split == 'train': \n",
    "            file_path = os.path.join(self.root_path, f'data/slices/{case}.h5')\n",
    "        elif self.split == 'val': \n",
    "            file_path = os.path.join(self.root_path, f'data/{case}.h5')\n",
    "        \n",
    "        h5f = h5py.File(file_path, 'r')\n",
    "        image = h5f['image'][:]\n",
    "        label = h5f['label'][:]\n",
    "\n",
    "        sample = {'image': image, 'label': label}\n",
    "        if self.split == 'train' and self.transform is not None: \n",
    "            sample = self.transform(sample)\n",
    "        \n",
    "        sample['case'] = case \n",
    "        return sample "
   ]
  },
  {
   "cell_type": "code",
   "execution_count": 4,
   "metadata": {},
   "outputs": [],
   "source": [
    "def random_rot_flip(image, label): \n",
    "    \"\"\"\n",
    "    Random rotate and Random flip \n",
    "    \"\"\"\n",
    "    \n",
    "    # Random rotate\n",
    "    k = np.random.randint(0, 4) \n",
    "    image = np.rot90(image, k)\n",
    "    label = np.rot90(label, k)\n",
    "\n",
    "    # Random flip \n",
    "    axis = np.random.randint(0, 2)\n",
    "    image = np.flip(image, axis).copy() \n",
    "    label = np.flip(label, axis).copy() \n",
    "\n",
    "    return image, label \n",
    "\n",
    "def random_rotate(image, label):\n",
    "    angle = np.random.randint(-20, 20) \n",
    "    image = rotate(image, angle, order= 0, reshape= False)\n",
    "    label = rotate(label,angle, order=0, reshape= False )\n",
    "    return image, label\n",
    "\n",
    "class RandomGenerator: \n",
    "    def __init__(self, output_size): \n",
    "        self.output_size = output_size\n",
    "    \n",
    "    def __call__(self, sample):\n",
    "        image, label = sample['image'], sample['label']\n",
    "        if np.random.random() > 0.5: \n",
    "            image, label = random_rot_flip(image, label)\n",
    "        \n",
    "        if np.random.random() > 0.5: \n",
    "            image, label = random_rotate(image, label) \n",
    "        \n",
    "        # Zoom image to -> [256,256]\n",
    "        x,y = image.shape\n",
    "        image = zoom(image, (self.output_size[0] / x, self.output_size[1] / y), order= 0)\n",
    "        label = zoom(label, (self.output_size[0] /x , self.output_size[1] / y), order= 0)\n",
    "\n",
    "        # Convert to pytorch \n",
    "        imageTensor = torch.from_numpy(image.astype(np.float32)).unsqueeze(0) # image.shape = (1, H, W)\n",
    "        labelTensor = torch.from_numpy(label.astype(np.uint8)) # label.shape = (H, W)\n",
    "        sample = {'image': imageTensor, 'label': labelTensor}\n",
    "        \n",
    "        return sample\n",
    "    "
   ]
  },
  {
   "cell_type": "code",
   "execution_count": 5,
   "metadata": {},
   "outputs": [],
   "source": [
    "def iterate_once(indices): \n",
    "    \"\"\"\n",
    "    Permutate the iterable once \n",
    "    (permutate the labeled_idxs once)\n",
    "    \"\"\"\n",
    "    return np.random.permutation(indices) \n",
    "\n",
    "def iterate_externally(indices): \n",
    "    \"\"\"\n",
    "    Create an infinite iterator that repeatedly permutes the indices.\n",
    "    ( permutate the unlabeled_idxs to make different)\n",
    "    \"\"\"\n",
    "    def infinite_shuffles(): \n",
    "        while True: \n",
    "            yield np.random.permutation(indices)\n",
    "            \n",
    "    return itertools.chain.from_iterable(infinite_shuffles())\n",
    "\n",
    "def grouper(iterable, n): \n",
    "    args = [iter(iterable)] * n \n",
    "    return zip(*args)\n",
    "\n",
    "class TwoStreamBatchSampler(Sampler): \n",
    "    def __init__(self, primary_indicies, secondary_indicies, batchsize, secondary_batchsize): \n",
    "        self.primary_indicies = primary_indicies\n",
    "        self.secondary_indicies = secondary_indicies\n",
    "        self.primary_batchsize = batchsize - secondary_batchsize\n",
    "        self.secondary_batchsize = secondary_batchsize\n",
    "\n",
    "        assert len(self.primary_indicies) >= self.primary_batchsize > 0 \n",
    "        assert len(self.secondary_indicies) >= self.secondary_batchsize > 0 \n",
    "\n",
    "    def __iter__(self):\n",
    "        primary_iter = iterate_once(self.primary_indicies)\n",
    "        secondary_iter = iterate_externally(self.secondary_indicies)\n",
    "\n",
    "        return (\n",
    "            primary_batch + secondary_batch\n",
    "            for (primary_batch, secondary_batch) \n",
    "            in zip(grouper(primary_iter, self.primary_batchsize),\n",
    "                   grouper(secondary_iter, self.secondary_batchsize))\n",
    "        )\n",
    "\n",
    "    def __len__(self): \n",
    "        return len(self.primary_indicies) // self.primary_batchsize"
   ]
  },
  {
   "cell_type": "code",
   "execution_count": 6,
   "metadata": {},
   "outputs": [],
   "source": [
    "# Split the data \n",
    "def patients_to_slices(dataset, patients_num): \n",
    "    ref_dict = {} \n",
    "    if \"ACDC\" in dataset: \n",
    "        ref_dict = {'1': 32, '3': 68, '7': 136, '14': 256, '21': 396, '28': 512, '35': 664, '70': 1312}\n",
    "    else:\n",
    "        print('Error')\n",
    "    \n",
    "    return ref_dict[str(patients_num)]"
   ]
  },
  {
   "cell_type": "markdown",
   "metadata": {},
   "source": [
    "#### 2. Loss "
   ]
  },
  {
   "cell_type": "code",
   "execution_count": 7,
   "metadata": {},
   "outputs": [],
   "source": [
    "class DiceLoss(nn.Module): \n",
    "    def __init__(self, n_classes): \n",
    "        super(DiceLoss, self).__init__() \n",
    "        self.n_classes = n_classes\n",
    "    \n",
    "    def _one_hot_encoder(self, input_tensor): # torch.nn.functional.one_hot()\n",
    "        \"\"\"\n",
    "        Apply one-hot encoder for input_tensor \n",
    "        Parameters: \n",
    "            - input_tensor.shape = (batchsize,1, H, W), the target image\n",
    "        \"\"\"\n",
    "        tensor_list = [] \n",
    "        for i in range(self.n_classes): \n",
    "            temp_prob = input_tensor == i * torch.ones_like(input_tensor)\n",
    "            tensor_list.append(temp_prob)\n",
    "        output_tensor = torch.cat(tensor_list, dim= 1)\n",
    "        return output_tensor.float() \n",
    "    \n",
    "    def _dice_loss(self, score, target): \n",
    "        target = target.float() \n",
    "        smooth = 1e-10 \n",
    "        \n",
    "        intersection = torch.sum(score * target)\n",
    "        union = torch.sum(score* score) + torch.sum(target*target)\n",
    "        dice = ( 2*intersection + smooth) / (union + smooth)\n",
    "        loss = 1 - dice \n",
    "        return loss \n",
    "    \n",
    "    def _dice_mask_loss(self, score, target, mask): \n",
    "        target = target.float() \n",
    "        mask = mask.float() \n",
    "        smooth = 1e-10 \n",
    "\n",
    "        intersection = torch.sum(score * target * mask)\n",
    "        union = torch.sum(score * score * mask ) + torch.sum(target * target * mask)\n",
    "        dice = (2*intersection + smooth) / (union + smooth)\n",
    "        loss = 1 - dice \n",
    "        return loss \n",
    "\n",
    "    def forward(self, inputs, target, mask= None, weight= None, softmax= False): \n",
    "        if softmax: \n",
    "            inputs = torch.softmax(inputs, dim= 1) \n",
    "        \n",
    "        target = self._one_hot_encoder(target)\n",
    "\n",
    "        # weight \n",
    "        if weight is  None: \n",
    "            weight = [1] * self.n_classes\n",
    "        \n",
    "        assert inputs.size() == target.size(), 'predict and target shape do not match'\n",
    "        class_wise_dice = [] \n",
    "        loss = 0.0 \n",
    "        if mask is not None: \n",
    "            mask = mask.repeat(1, self.n_classes, 1, 1).type(torch.float32)\n",
    "            for i in range(0, self.n_classes): \n",
    "                dice = self._dice_mask_loss(inputs[:, i], target[:, i], mask[:, i])\n",
    "                class_wise_dice.append( 1.0 - dice.item())\n",
    "                loss += dice * weight[i]\n",
    "\n",
    "        else: \n",
    "            for i in range(0, self.n_classes): \n",
    "                dice = self._dice_loss(inputs[:, i], target[:, i]) \n",
    "                class_wise_dice.append(1.0 - dice.item())\n",
    "                loss += dice * weight[i] \n",
    "        \n",
    "        return loss / self.n_classes"
   ]
  },
  {
   "cell_type": "code",
   "execution_count": 8,
   "metadata": {},
   "outputs": [],
   "source": [
    "dice_loss = DiceLoss(n_classes= 4)"
   ]
  },
  {
   "cell_type": "code",
   "execution_count": 9,
   "metadata": {},
   "outputs": [],
   "source": [
    "def mix_loss(output, img_l, patch_l, mask, l_weight=1.0, u_weight=0.5, unlab=False):\n",
    "    CE = nn.CrossEntropyLoss(reduction='none')\n",
    "    img_l, patch_l = img_l.type(torch.int64), patch_l.type(torch.int64)\n",
    "    output_soft = F.softmax(output, dim=1)\n",
    "    image_weight, patch_weight = l_weight, u_weight\n",
    "    if unlab:\n",
    "        image_weight, patch_weight = u_weight, l_weight\n",
    "    patch_mask = 1 - mask\n",
    "    loss_dice = dice_loss(output_soft, img_l.unsqueeze(1), mask.unsqueeze(1)) * image_weight\n",
    "    loss_dice += dice_loss(output_soft, patch_l.unsqueeze(1), patch_mask.unsqueeze(1)) * patch_weight\n",
    "    loss_ce = image_weight * (CE(output, img_l) * mask).sum() / (mask.sum() + 1e-16) \n",
    "    loss_ce += patch_weight * (CE(output, patch_l) * patch_mask).sum() / (patch_mask.sum() + 1e-16)#loss = loss_ce\n",
    "    return loss_dice, loss_ce"
   ]
  },
  {
   "cell_type": "markdown",
   "metadata": {},
   "source": [
    "#### 3.Valid \n"
   ]
  },
  {
   "cell_type": "code",
   "execution_count": 10,
   "metadata": {},
   "outputs": [],
   "source": [
    "def calculate_metric_percase(pred, gt):\n",
    "    pred[pred > 0] = 1\n",
    "    gt[gt > 0] = 1\n",
    "    if pred.sum() > 0:\n",
    "        dice = metric.binary.dc(pred, gt)\n",
    "        hd95 = metric.binary.hd95(pred, gt)\n",
    "        return dice, hd95\n",
    "    else:\n",
    "        return 0, 0\n",
    "\n",
    "\n",
    "def test_single_volume(image, label, model, classes, patch_size=[256, 256]):\n",
    "    image, label = image.squeeze(0).cpu().detach().numpy(), label.squeeze(0).cpu().detach().numpy()\n",
    "    prediction = np.zeros_like(label)\n",
    "    for ind in range(image.shape[0]):\n",
    "        slice = image[ind, :, :]\n",
    "        x, y = slice.shape[0], slice.shape[1]\n",
    "        slice = zoom(slice, (patch_size[0] / x, patch_size[1] / y), order=0)\n",
    "        input = torch.from_numpy(slice).unsqueeze(0).unsqueeze(0).float().cuda()\n",
    "        model.eval()\n",
    "        with torch.no_grad():\n",
    "            output = model(input)\n",
    "            if len(output)>1:\n",
    "                output = output[0]\n",
    "            out = torch.argmax(torch.softmax(output, dim=1), dim=1).squeeze(0)\n",
    "            out = out.cpu().detach().numpy()\n",
    "            pred = zoom(out, (x / patch_size[0], y / patch_size[1]), order=0)\n",
    "            prediction[ind] = pred\n",
    "    metric_list = []\n",
    "    for i in range(1, classes):\n",
    "        metric_list.append(calculate_metric_percase(prediction == i, label == i))\n",
    "    return metric_list\n"
   ]
  },
  {
   "cell_type": "markdown",
   "metadata": {},
   "source": [
    "#### 3. UNet"
   ]
  },
  {
   "cell_type": "code",
   "execution_count": 11,
   "metadata": {},
   "outputs": [],
   "source": [
    "from __future__ import division, print_function\n",
    "\n",
    "import numpy as np\n",
    "import torch\n",
    "import torch.nn as nn\n",
    "import pdb\n",
    "from torch.nn import functional as F\n",
    "from torch.distributions.uniform import Uniform\n",
    "\n",
    "\n",
    "class ConvBlock(nn.Module):\n",
    "    \"\"\"two convolution layers with batch norm and leaky relu\"\"\"\n",
    "    def __init__(self, in_channels, out_channels, dropout_p):\n",
    "        super(ConvBlock, self).__init__()\n",
    "        self.conv_conv = nn.Sequential(\n",
    "            nn.Conv2d(in_channels, out_channels, kernel_size=3, padding=1),\n",
    "            nn.BatchNorm2d(out_channels),\n",
    "            nn.LeakyReLU(),\n",
    "            nn.Dropout(dropout_p),\n",
    "            nn.Conv2d(out_channels, out_channels, kernel_size=3, padding=1),\n",
    "            nn.BatchNorm2d(out_channels),\n",
    "            nn.LeakyReLU()\n",
    "        )\n",
    "\n",
    "    def forward(self, x):\n",
    "        return self.conv_conv(x)\n",
    "\n",
    "class DownBlock(nn.Module):\n",
    "    \"\"\"Downsampling followed by ConvBlock\"\"\"\n",
    "    def __init__(self, in_channels, out_channels, dropout_p):\n",
    "        super(DownBlock, self).__init__()\n",
    "        self.maxpool_conv = nn.Sequential(\n",
    "            nn.MaxPool2d(2),\n",
    "            ConvBlock(in_channels, out_channels, dropout_p)\n",
    "        )\n",
    "\n",
    "    def forward(self, x):\n",
    "        return self.maxpool_conv(x)\n",
    "\n",
    "\n",
    "class UpBlock(nn.Module):\n",
    "    \"\"\"Upsampling followed by ConvBlock\"\"\"\n",
    "    def __init__(self, in_channels1, in_channels2, out_channels, dropout_p):\n",
    "        super(UpBlock, self).__init__()\n",
    "        self.conv1x1 = nn.Conv2d(in_channels1, in_channels2, kernel_size=1)\n",
    "        self.up = nn.Upsample(scale_factor=2, mode='bilinear', align_corners=True)\n",
    "        self.conv = ConvBlock(in_channels2 * 2, out_channels, dropout_p)\n",
    "\n",
    "    def forward(self, x1, x2):\n",
    "        x1 = self.conv1x1(x1)\n",
    "        x1 = self.up(x1)\n",
    "        x = torch.cat([x2, x1], dim=1)\n",
    "        return self.conv(x)\n",
    "\n",
    "\n",
    "class Encoder(nn.Module):\n",
    "    def __init__(self, params):\n",
    "        super(Encoder, self).__init__()\n",
    "        self.params = params\n",
    "        self.in_chns = self.params['in_chns']\n",
    "        self.ft_chns = self.params['feature_chns']\n",
    "        self.n_class = self.params['class_num']\n",
    "        self.dropout = self.params['dropout']\n",
    "        assert (len(self.ft_chns) == 5)\n",
    "        self.in_conv = ConvBlock(\n",
    "            self.in_chns, self.ft_chns[0], self.dropout[0])\n",
    "        self.down1 = DownBlock(\n",
    "            self.ft_chns[0], self.ft_chns[1], self.dropout[1])\n",
    "        self.down2 = DownBlock(\n",
    "            self.ft_chns[1], self.ft_chns[2], self.dropout[2])\n",
    "        self.down3 = DownBlock(\n",
    "            self.ft_chns[2], self.ft_chns[3], self.dropout[3])\n",
    "        self.down4 = DownBlock(\n",
    "            self.ft_chns[3], self.ft_chns[4], self.dropout[4])\n",
    "\n",
    "    def forward(self, x):\n",
    "        x0 = self.in_conv(x)\n",
    "        x1 = self.down1(x0)\n",
    "        x2 = self.down2(x1)\n",
    "        x3 = self.down3(x2)\n",
    "        x4 = self.down4(x3)\n",
    "        return [x0, x1, x2, x3, x4]\n",
    "\n",
    "class Decoder(nn.Module):\n",
    "    def __init__(self, params):\n",
    "        super(Decoder, self).__init__()\n",
    "        self.params = params\n",
    "        self.in_chns = self.params['in_chns']\n",
    "        self.ft_chns = self.params['feature_chns']\n",
    "        self.n_class = self.params['class_num']\n",
    "        assert (len(self.ft_chns) == 5)\n",
    "\n",
    "        self.up1 = UpBlock(self.ft_chns[4], self.ft_chns[3], self.ft_chns[3], dropout_p=0.0)\n",
    "        self.up2 = UpBlock(self.ft_chns[3], self.ft_chns[2], self.ft_chns[2], dropout_p=0.0)\n",
    "        self.up3 = UpBlock(self.ft_chns[2], self.ft_chns[1], self.ft_chns[1], dropout_p=0.0)\n",
    "        self.up4 = UpBlock(self.ft_chns[1], self.ft_chns[0], self.ft_chns[0], dropout_p=0.0)\n",
    "\n",
    "        self.out_conv = nn.Conv2d(self.ft_chns[0], self.n_class, kernel_size=3, padding=1)\n",
    "\n",
    "    def forward(self, feature):\n",
    "        x0 = feature[0]\n",
    "        x1 = feature[1]\n",
    "        x2 = feature[2]\n",
    "        x3 = feature[3]\n",
    "        x4 = feature[4]\n",
    "\n",
    "        x = self.up1(x4, x3)\n",
    "        x = self.up2(x, x2)\n",
    "        x = self.up3(x, x1)\n",
    "        x_last = self.up4(x, x0)\n",
    "        output = self.out_conv(x_last)\n",
    "        return output, x_last\n",
    "\n",
    "class Decoder_tsne(nn.Module):\n",
    "    def __init__(self, params):\n",
    "        super(Decoder_tsne, self).__init__()\n",
    "        self.params = params\n",
    "        self.in_chns = self.params['in_chns']\n",
    "        self.ft_chns = self.params['feature_chns']\n",
    "        self.n_class = self.params['class_num']\n",
    "        assert (len(self.ft_chns) == 5)\n",
    "\n",
    "        self.up1 = UpBlock(self.ft_chns[4], self.ft_chns[3], self.ft_chns[3], dropout_p=0.0)\n",
    "        self.up2 = UpBlock(self.ft_chns[3], self.ft_chns[2], self.ft_chns[2], dropout_p=0.0)\n",
    "        self.up3 = UpBlock(self.ft_chns[2], self.ft_chns[1], self.ft_chns[1], dropout_p=0.0)\n",
    "        self.up4 = UpBlock(self.ft_chns[1], self.ft_chns[0], self.ft_chns[0], dropout_p=0.0)\n",
    "\n",
    "        self.out_conv = nn.Conv2d(self.ft_chns[0], self.n_class, kernel_size=3, padding=1)\n",
    "\n",
    "    def forward(self, feature):\n",
    "        x0 = feature[0]\n",
    "        x1 = feature[1]\n",
    "        x2 = feature[2]\n",
    "        x3 = feature[3]\n",
    "        x4 = feature[4]\n",
    "\n",
    "        x5 = self.up1(x4, x3) # 1, 128, 32, 32\n",
    "        x6 = self.up2(x5, x2) # 1, 64, 64, 64\n",
    "        x7 = self.up3(x6, x1) # 1, 32, 128, 128\n",
    "        x_last = self.up4(x7, x0) # 1, 16, 256, 256\n",
    "        output = self.out_conv(x_last)\n",
    "        return output, x_last\n",
    "    \n",
    "class UNet(nn.Module):\n",
    "    def __init__(self, in_chns, class_num):\n",
    "        super(UNet, self).__init__()\n",
    "\n",
    "        params = {'in_chns': in_chns,\n",
    "                  'feature_chns': [16, 32, 64, 128, 256],\n",
    "                  'dropout': [0.05, 0.1, 0.2, 0.3, 0.5],\n",
    "                  'class_num': class_num,\n",
    "                  'acti_func': 'relu'}\n",
    "\n",
    "        self.encoder = Encoder(params)\n",
    "        self.decoder = Decoder(params)\n",
    "        dim_in = 16\n",
    "        feat_dim = 32\n",
    "        self.projection_head = nn.Sequential(\n",
    "            nn.Linear(dim_in, feat_dim),\n",
    "            nn.BatchNorm1d(feat_dim),\n",
    "            nn.ReLU(inplace=True),\n",
    "            nn.Linear(feat_dim, feat_dim)\n",
    "        )\n",
    "        self.prediction_head = nn.Sequential(\n",
    "            nn.Linear(feat_dim, feat_dim),\n",
    "            nn.BatchNorm1d(feat_dim),\n",
    "            nn.ReLU(inplace=True),\n",
    "            nn.Linear(feat_dim, feat_dim)\n",
    "        )\n",
    "        for class_c in range(4):\n",
    "            selector = nn.Sequential(\n",
    "                nn.Linear(feat_dim, feat_dim),\n",
    "                nn.BatchNorm1d(feat_dim),\n",
    "                nn.LeakyReLU(negative_slope=0.2, inplace=True),\n",
    "                nn.Linear(feat_dim, 1)\n",
    "            )\n",
    "            self.__setattr__('contrastive_class_selector_' + str(class_c), selector)\n",
    "\n",
    "        for class_c in range(4):\n",
    "            selector = nn.Sequential(\n",
    "                nn.Linear(feat_dim, feat_dim),\n",
    "                nn.BatchNorm1d(feat_dim),\n",
    "                nn.LeakyReLU(negative_slope=0.2, inplace=True),\n",
    "                nn.Linear(feat_dim, 1)\n",
    "            )\n",
    "            self.__setattr__('contrastive_class_selector_memory' + str(class_c), selector)\n",
    "            \n",
    "    def forward_projection_head(self, features):\n",
    "        return self.projection_head(features)\n",
    "\n",
    "    def forward_prediction_head(self, features):\n",
    "        return self.prediction_head(features)\n",
    "\n",
    "    def forward(self, x):\n",
    "        feature = self.encoder(x)\n",
    "        output, features = self.decoder(feature)\n",
    "        return output, features\n",
    "\n",
    "class UNet_2d(nn.Module):\n",
    "    def __init__(self, in_chns, class_num):\n",
    "        super(UNet_2d, self).__init__()\n",
    "\n",
    "        params = {'in_chns': in_chns,\n",
    "                  'feature_chns': [16, 32, 64, 128, 256],\n",
    "                  'dropout': [0.05, 0.1, 0.2, 0.3, 0.5],\n",
    "                  'class_num': class_num,\n",
    "                  'acti_func': 'relu'}\n",
    "\n",
    "        self.encoder = Encoder(params)\n",
    "        self.decoder = Decoder(params)\n",
    "        dim_in = 16\n",
    "        feat_dim = 32\n",
    "        self.projection_head = nn.Sequential(\n",
    "            nn.Linear(dim_in, feat_dim),\n",
    "            nn.BatchNorm1d(feat_dim),\n",
    "            nn.ReLU(inplace=True),\n",
    "            nn.Linear(feat_dim, feat_dim)\n",
    "        )\n",
    "        self.prediction_head = nn.Sequential(\n",
    "            nn.Linear(feat_dim, feat_dim),\n",
    "            nn.BatchNorm1d(feat_dim),\n",
    "            nn.ReLU(inplace=True),\n",
    "            nn.Linear(feat_dim, feat_dim)\n",
    "        )\n",
    "        for class_c in range(4):\n",
    "            selector = nn.Sequential(\n",
    "                nn.Linear(feat_dim, feat_dim),\n",
    "                nn.BatchNorm1d(feat_dim),\n",
    "                nn.LeakyReLU(negative_slope=0.2, inplace=True),\n",
    "                nn.Linear(feat_dim, 1)\n",
    "            )\n",
    "            self.__setattr__('contrastive_class_selector_' + str(class_c), selector)\n",
    "\n",
    "        for class_c in range(4):\n",
    "            selector = nn.Sequential(\n",
    "                nn.Linear(feat_dim, feat_dim),\n",
    "                nn.BatchNorm1d(feat_dim),\n",
    "                nn.LeakyReLU(negative_slope=0.2, inplace=True),\n",
    "                nn.Linear(feat_dim, 1)\n",
    "            )\n",
    "            self.__setattr__('contrastive_class_selector_memory' + str(class_c), selector)\n",
    "            \n",
    "    def forward_projection_head(self, features):\n",
    "        return self.projection_head(features)\n",
    "        #return self.decoder(features)\n",
    "\n",
    "    def forward_prediction_head(self, features):\n",
    "        return self.prediction_head(features)\n",
    "\n",
    "    def forward(self, x):\n",
    "        feature = self.encoder(x)\n",
    "        output, features = self.decoder(feature)\n",
    "        return output"
   ]
  },
  {
   "cell_type": "code",
   "execution_count": 12,
   "metadata": {},
   "outputs": [],
   "source": [
    "import torch.nn as nn\n",
    "\n",
    "def net_factory(net_type=\"unet\", in_chns=1, class_num=2, mode = \"train\", tsne=0):\n",
    "    if net_type == \"unet\" and mode == \"train\":\n",
    "        net = UNet(in_chns=in_chns, class_num=class_num).cuda()\n",
    "    return net\n",
    "\n",
    "def BCP_net(in_chns=1, class_num=4, ema=False):\n",
    "    net = UNet_2d(in_chns=in_chns, class_num=class_num).cuda()\n",
    "    if ema:\n",
    "        for param in net.parameters():\n",
    "            param.detach_()\n",
    "    return net\n"
   ]
  },
  {
   "cell_type": "markdown",
   "metadata": {},
   "source": [
    "#### 4.Training "
   ]
  },
  {
   "cell_type": "code",
   "execution_count": 13,
   "metadata": {},
   "outputs": [],
   "source": [
    "def get_ACDC_2DLargestCC(segmentation):\n",
    "    batch_list = []\n",
    "    N = segmentation.shape[0]\n",
    "    for i in range(0, N):\n",
    "        class_list = []\n",
    "        for c in range(1, 4):\n",
    "            temp_seg = segmentation[i] #== c *  torch.ones_like(segmentation[i])\n",
    "            temp_prob = torch.zeros_like(temp_seg)\n",
    "            temp_prob[temp_seg == c] = 1\n",
    "            temp_prob = temp_prob.detach().cpu().numpy()\n",
    "            labels = label(temp_prob)          \n",
    "            if labels.max() != 0:\n",
    "                largestCC = labels == np.argmax(np.bincount(labels.flat)[1:])+1\n",
    "                class_list.append(largestCC * c)\n",
    "            else:\n",
    "                class_list.append(temp_prob)\n",
    "        \n",
    "        n_batch = class_list[0] + class_list[1] + class_list[2]\n",
    "        batch_list.append(n_batch)\n",
    "\n",
    "    return torch.Tensor(batch_list).cuda()\n",
    "    \n",
    "def get_ACDC_masks(output, nms=0):\n",
    "    probs = F.softmax(output, dim=1)\n",
    "    _, probs = torch.max(probs, dim=1)\n",
    "    if nms == 1:\n",
    "        probs = get_ACDC_2DLargestCC(probs)      \n",
    "    return probs"
   ]
  },
  {
   "cell_type": "code",
   "execution_count": 14,
   "metadata": {},
   "outputs": [],
   "source": [
    "def save_net_opt(net, optimizer, path):\n",
    "    state = {\n",
    "        'net': net.state_dict(),\n",
    "        'optim': optimizer.state_dict()\n",
    "    }\n",
    "    torch.save(state, str(path))\n",
    "\n",
    "def load_net(net, path):\n",
    "    state = torch.load(str(path))\n",
    "    net.load_state_dict(state['net']) \n",
    "\n",
    "def load_net_opt(net, optimizer, path): \n",
    "    state = torch.load(str(path))\n",
    "    net.load_state_dict(state['net'])\n",
    "    optimizer.load_state_dict(state['optim'])"
   ]
  },
  {
   "cell_type": "code",
   "execution_count": 15,
   "metadata": {},
   "outputs": [],
   "source": [
    "def generate_mask(img):\n",
    "    batch_size, channel, img_x, img_y = img.shape[0], img.shape[1], img.shape[2], img.shape[3]\n",
    "    loss_mask = torch.ones(batch_size, img_x, img_y).cuda()\n",
    "    mask = torch.ones(img_x, img_y).cuda()\n",
    "    patch_x, patch_y = int(img_x*2/3), int(img_y*2/3)\n",
    "    w = np.random.randint(0, img_x - patch_x)\n",
    "    h = np.random.randint(0, img_y - patch_y)\n",
    "    mask[w:w+patch_x, h:h+patch_y] = 0\n",
    "    loss_mask[:, w:w+patch_x, h:h+patch_y] = 0\n",
    "    return mask.long(), loss_mask.long()"
   ]
  },
  {
   "cell_type": "code",
   "execution_count": 16,
   "metadata": {},
   "outputs": [],
   "source": [
    "def sigmoid_rampup(current, rampup_length):\n",
    "    if rampup_length == 0: \n",
    "        return 1.0 \n",
    "    else:\n",
    "        current = np.clip(current, 0, rampup_length)\n",
    "        phase = 1 - (current / rampup_length)\n",
    "        return float(np.exp(-5 * phase * phase))"
   ]
  },
  {
   "cell_type": "code",
   "execution_count": 17,
   "metadata": {},
   "outputs": [],
   "source": [
    "# Mean-Teacher compomnent \n",
    "def get_current_consistency_weight(epoch, args): \n",
    "    return 5 * args.consistency + sigmoid_rampup(epoch, args.consistency_rampup)\n",
    "\n",
    "def update_model_ema(model, ema_model, alpha): \n",
    "    model_state = model.state_dict() \n",
    "    model_ema_state = ema_model.state_dict()\n",
    "\n",
    "\n",
    "    new_dict = {} \n",
    "\n",
    "    for key in model_state:\n",
    "        new_dict[key] = alpha * model_ema_state[key] + (1 - alpha) * model_state[key]\n",
    "\n",
    "    ema_model.load_state_dict(new_dict)"
   ]
  },
  {
   "cell_type": "code",
   "execution_count": 18,
   "metadata": {},
   "outputs": [],
   "source": [
    "# Configuration\n",
    "def pre_train(args, snapshot_path):\n",
    "    base_lr = args.base_lr\n",
    "    num_classes = args.num_classes\n",
    "    max_iterations = args.pretrain_iterations\n",
    "    os.environ['CUDA_VISIBLE_DEVICES'] = args.gpu \n",
    "    pre_trained_model = os.path.join(snapshot_path, '{}_best_model.pth'.format(args.model))\n",
    "    labeled_sub_bs, unlabeled_sub_bs = int(args.labeled_bs / 2), int((args.batch_size - args.labeled_bs)/2)\n",
    "\n",
    "    def worker_init_fn(worker_id):\n",
    "        random.seed(args.seed + worker_id)\n",
    "\n",
    "    # load dataset \n",
    "    db_train = BaseDataset(root_path = args.root_dir, split= 'train', \n",
    "                        num= None, \n",
    "                        transform= transforms.Compose([RandomGenerator(args.patch_size)]))\n",
    "    \n",
    "    db_val = BaseDataset(root_path= args.root_dir, split= 'val')\n",
    "\n",
    "    total_slices = len(db_train)\n",
    "    labeled_slices = patients_to_slices(args.root_dir, args.label_num)\n",
    "    print(f'Total slice is {total_slices}, Labeled slice is {labeled_slices}')\n",
    "\n",
    "    # Create batch_sampler \n",
    "    labeled_idxs = list(range(0, labeled_slices))\n",
    "    unlabeled_idxs = list(range(labeled_slices, total_slices))\n",
    "    batch_sampler = TwoStreamBatchSampler(labeled_idxs, unlabeled_idxs, args.batch_size, args.batch_size - args.labeled_bs)\n",
    "\n",
    "    # Create dataloader \n",
    "    trainloader = DataLoader(db_train, batch_sampler= batch_sampler, num_workers= 4, pin_memory= True, worker_init_fn= worker_init_fn)\n",
    "    valloader = DataLoader(db_val, batch_size= 1, shuffle= False, num_workers=1)\n",
    "\n",
    "    # Define model \n",
    "    model = BCP_net(in_chns=1, class_num= num_classes)\n",
    "    optimizer = optim.SGD(model.parameters(), lr= base_lr, momentum= 0.9, weight_decay= 0.0001)\n",
    "\n",
    "    writer = SummaryWriter(snapshot_path + '/log')\n",
    "    logging.info('Start pre-training')\n",
    "    logging.info(f'{len(trainloader)} iterations per epoch')\n",
    "\n",
    "    # training process\n",
    "    model.train() \n",
    "    iter_num = 0 \n",
    "    max_epoch = max_iterations // len(trainloader) + 1 \n",
    "    best_performance = 0.0 \n",
    "    best_hd = 100.0\n",
    "    iterator = tqdm(range(max_epoch), ncols= 70)\n",
    "    \n",
    "    for _ in iterator: \n",
    "        for _, sampled_batch in enumerate(trainloader): \n",
    "            volume_batch, label_batch = sampled_batch['image'], sampled_batch['label']\n",
    "            volume_batch, label_batch = volume_batch.cuda(), label_batch.cuda() \n",
    "\n",
    "            img_a, img_b = volume_batch[: labeled_sub_bs], volume_batch[labeled_sub_bs : args.labeled_bs]\n",
    "            lab_a, lab_b = label_batch[: labeled_sub_bs], label_batch[labeled_sub_bs : args.labeled_bs]\n",
    "            img_mask, loss_mask = generate_mask(img_a)\n",
    "            gt_mixl = lab_a * img_mask + lab_b * ( 1- img_mask)\n",
    "\n",
    "            #-- original \n",
    "            net_input = img_a * img_mask + img_b * ( 1 - img_mask)  \n",
    "            out_mixl = model(net_input)\n",
    "            loss_dice, loss_ce = mix_loss(out_mixl, lab_a, lab_b, loss_mask,u_weight= 1.0, unlab= True )\n",
    "            loss = (loss_dice + loss_ce )/2 \n",
    "\n",
    "            optimizer.zero_grad() \n",
    "            loss.backward() \n",
    "            optimizer.step() \n",
    "\n",
    "            iter_num += 1 \n",
    "\n",
    "            writer.add_scalar('info/total_loss', loss, iter_num)\n",
    "            writer.add_scalar('info/mix_dice', loss_dice,iter_num )\n",
    "            writer.add_scalar('info/mix_ce', loss_ce, iter_num)\n",
    "\n",
    "            logging.info('iteration %d: loss %f, mix_dice: %f, mix_ce: %f'%(iter_num, loss, loss_dice, loss_ce))\n",
    "            if iter_num % 20 == 0: \n",
    "                image = net_input[1, 0:1, :, :]\n",
    "                writer.add_image('pre_train/Mixed_Image', image, iter_num)\n",
    "                outputs = torch.argmax(torch.softmax(out_mixl, dim=1), dim=1, keepdim= True)\n",
    "                writer.add_image('pre_train/Mixed_Prediction', outputs[1, ...]*50, iter_num)\n",
    "                labs = gt_mixl[1, ...].unsqueeze(0) * 50 \n",
    "                writer.add_image('pre_train/Mixed_GroundTruth', labs, iter_num)\n",
    "            \n",
    "            # Evaluate after 200 epoch ! \n",
    "            if iter_num > 0 and iter_num % 200 == 0: \n",
    "                model.eval() \n",
    "                metric_list = 0.0 \n",
    "                for _, sampled_batch in enumerate(valloader):\n",
    "                    metric_i = test_single_volume(sampled_batch['image'], sampled_batch['label'], model, classes= num_classes)\n",
    "                    metric_list += np.array(metric_i)\n",
    "                \n",
    "                metric_list = metric_list / len(db_val)\n",
    "                \n",
    "    \n",
    "                for class_i in range(num_classes - 1 ): \n",
    "                    writer.add_scalar('info/val_{}_dice'.format(class_i + 1), metric_list[class_i, 0], iter_num)\n",
    "                    writer.add_scalar('infor/val_{}_hd'.format(class_i + 1), metric_list[class_i, 1], iter_num)\n",
    "                \n",
    "                performance = np.mean(metric_list, axis=0)[0]\n",
    "                writer.add_scalar('info/val_mean_dice', performance, iter_num)\n",
    "            \n",
    "                if performance > best_performance: \n",
    "                    best_performance = performance\n",
    "                    save_model_path = os.path.join(snapshot_path, 'iter_{}_dice_{}.pth'.format(iter_num, round(best_performance,4)))\n",
    "                    save_best_path = os.path.join(snapshot_path, '{}_best_model.pth'.format(args.model))\n",
    "                    save_net_opt(model, optimizer, save_model_path)\n",
    "                    save_net_opt(model, optimizer, save_best_path)\n",
    "                \n",
    "                logging.info('iteration %d : mean dice : %f'%(iter_num, performance))\n",
    "                model.train() \n",
    "            \n",
    "            if iter_num >= max_iterations: \n",
    "                break \n",
    "        \n",
    "        if iter_num >= max_iterations: \n",
    "            iterator.close() \n",
    "            break \n",
    "    \n",
    "    writer.close()"
   ]
  },
  {
   "cell_type": "code",
   "execution_count": 19,
   "metadata": {},
   "outputs": [],
   "source": [
    "def self_train(args ,pre_snapshot_path, snapshot_path):\n",
    "    base_lr = args.base_lr\n",
    "    num_classes = args.num_classes\n",
    "    max_iterations = args.selftrain_iterations\n",
    "    os.environ['CUDA_VISIBLE_DEVICES'] = args.gpu\n",
    "    pre_trained_model = os.path.join(pre_snapshot_path,'{}_best_model.pth'.format(args.model))\n",
    "    labeled_sub_bs, unlabeled_sub_bs = int(args.labeled_bs/2), int((args.batch_size-args.labeled_bs) / 2)\n",
    "     \n",
    "    model = BCP_net(in_chns=1, class_num=num_classes)\n",
    "    ema_model = BCP_net(in_chns=1, class_num=num_classes, ema=True)\n",
    "\n",
    "    def worker_init_fn(worker_id):\n",
    "        random.seed(args.seed + worker_id)\n",
    "\n",
    "    db_train = BaseDataset(root_path=args.root_dir,\n",
    "                            split=\"train\",\n",
    "                            num=None,\n",
    "                            transform=transforms.Compose([RandomGenerator(args.patch_size)]))\n",
    "    db_val = BaseDataset(root_path=args.root_dir, split=\"val\")\n",
    "    total_slices = len(db_train)\n",
    "    labeled_slice = patients_to_slices(args.root_dir,args.label_num)\n",
    "    print(\"Total slices is: {}, labeled slices is:{}\".format(total_slices, labeled_slice))\n",
    "    labeled_idxs = list(range(0, labeled_slice))\n",
    "    unlabeled_idxs = list(range(labeled_slice, total_slices))\n",
    "    batch_sampler = TwoStreamBatchSampler(labeled_idxs, unlabeled_idxs, args.batch_size, args.batch_size-args.labeled_bs)\n",
    "\n",
    "    trainloader = DataLoader(db_train, batch_sampler=batch_sampler, num_workers=4, pin_memory=True, worker_init_fn=worker_init_fn)\n",
    "\n",
    "    valloader = DataLoader(db_val, batch_size=1, shuffle=False, num_workers=1)\n",
    "\n",
    "    optimizer = optim.SGD(model.parameters(), lr=base_lr, momentum=0.9, weight_decay=0.0001)\n",
    "    load_net(ema_model, pre_trained_model)\n",
    "    load_net_opt(model, optimizer, pre_trained_model) #\n",
    "    logging.info(\"Loaded from {}\".format(pre_trained_model))\n",
    "\n",
    "    writer = SummaryWriter(snapshot_path + '/log')\n",
    "    logging.info(\"Start self_training\")\n",
    "    logging.info(\"{} iterations per epoch\".format(len(trainloader)))\n",
    "\n",
    "    model.train()\n",
    "    ema_model.train()\n",
    "\n",
    "    ce_loss = CrossEntropyLoss()\n",
    "\n",
    "    iter_num = 0\n",
    "    max_epoch = max_iterations // len(trainloader) + 1\n",
    "    best_performance = 0.0\n",
    "    best_hd = 100\n",
    "    iterator = tqdm(range(max_epoch), ncols=70)\n",
    "    for _ in iterator:\n",
    "        for _, sampled_batch in enumerate(trainloader):\n",
    "            \n",
    "            volume_batch, label_batch = sampled_batch['image'], sampled_batch['label']\n",
    "            volume_batch, label_batch = volume_batch.cuda(), label_batch.cuda()\n",
    "\n",
    "            img_a, img_b = volume_batch[:labeled_sub_bs], volume_batch[labeled_sub_bs:args.labeled_bs]\n",
    "            uimg_a, uimg_b = volume_batch[args.labeled_bs:args.labeled_bs + unlabeled_sub_bs], volume_batch[args.labeled_bs + unlabeled_sub_bs:]\n",
    "            ulab_a, ulab_b = label_batch[args.labeled_bs:args.labeled_bs + unlabeled_sub_bs], label_batch[args.labeled_bs + unlabeled_sub_bs:]\n",
    "            lab_a, lab_b = label_batch[:labeled_sub_bs], label_batch[labeled_sub_bs:args.labeled_bs]\n",
    "            with torch.no_grad():\n",
    "                pre_a = ema_model(uimg_a) # pseudo label a \n",
    "                pre_b = ema_model(uimg_b) # pseudo label b \n",
    "                plab_a = get_ACDC_masks(pre_a, nms=1)\n",
    "                plab_b = get_ACDC_masks(pre_b, nms=1)\n",
    "                img_mask, loss_mask = generate_mask(img_a)\n",
    "                unl_label = ulab_a * img_mask + lab_a * (1 - img_mask)\n",
    "                l_label = lab_b * img_mask + ulab_b * (1 - img_mask)\n",
    "            consistency_weight = get_current_consistency_weight(iter_num//150,args)\n",
    "\n",
    "            net_input_unl = uimg_a * img_mask + img_a * (1 - img_mask)\n",
    "            net_input_l = img_b * img_mask + uimg_b * (1 - img_mask)\n",
    "            out_unl = model(net_input_unl)\n",
    "            out_l = model(net_input_l)\n",
    "            unl_dice, unl_ce = mix_loss(out_unl, plab_a, lab_a, loss_mask, u_weight=args.u_weight, unlab=True)\n",
    "            l_dice, l_ce = mix_loss(out_l, lab_b, plab_b, loss_mask, u_weight=args.u_weight)\n",
    "\n",
    "\n",
    "            loss_ce = unl_ce + l_ce \n",
    "            loss_dice = unl_dice + l_dice\n",
    "\n",
    "            loss = (loss_dice + loss_ce) / 2            \n",
    "\n",
    "            optimizer.zero_grad()\n",
    "            loss.backward()\n",
    "            optimizer.step()\n",
    "\n",
    "            iter_num += 1\n",
    "            update_model_ema(model, ema_model, 0.99)\n",
    "\n",
    "            writer.add_scalar('info/total_loss', loss, iter_num)\n",
    "            writer.add_scalar('info/mix_dice', loss_dice, iter_num)\n",
    "            writer.add_scalar('info/mix_ce', loss_ce, iter_num)\n",
    "            writer.add_scalar('info/consistency_weight', consistency_weight, iter_num)     \n",
    "\n",
    "            logging.info('iteration %d: loss: %f, mix_dice: %f, mix_ce: %f'%(iter_num, loss, loss_dice, loss_ce))\n",
    "                \n",
    "            if iter_num % 20 == 0:\n",
    "                image = net_input_unl[1, 0:1, :, :]\n",
    "                writer.add_image('train/Un_Image', image, iter_num)\n",
    "                outputs = torch.argmax(torch.softmax(out_unl, dim=1), dim=1, keepdim=True)\n",
    "                writer.add_image('train/Un_Prediction', outputs[1, ...] * 50, iter_num)\n",
    "                labs = unl_label[1, ...].unsqueeze(0) * 50\n",
    "                writer.add_image('train/Un_GroundTruth', labs, iter_num)\n",
    "\n",
    "                image_l = net_input_l[1, 0:1, :, :]\n",
    "                writer.add_image('train/L_Image', image_l, iter_num)\n",
    "                outputs_l = torch.argmax(torch.softmax(out_l, dim=1), dim=1, keepdim=True)\n",
    "                writer.add_image('train/L_Prediction', outputs_l[1, ...] * 50, iter_num)\n",
    "                labs_l = l_label[1, ...].unsqueeze(0) * 50\n",
    "                writer.add_image('train/L_GroundTruth', labs_l, iter_num)\n",
    "\n",
    "            if iter_num > 0 and iter_num % 200 == 0:\n",
    "                model.eval()\n",
    "                metric_list = 0.0\n",
    "                for _, sampled_batch in enumerate(valloader):\n",
    "                    metric_i = test_single_volume(sampled_batch[\"image\"], sampled_batch[\"label\"], model, classes= num_classes)\n",
    "                    metric_list += np.array(metric_i)\n",
    "                metric_list = metric_list / len(db_val)\n",
    "                print(f'Metric list: {metric_list}') \n",
    "                for class_i in range(num_classes-1):\n",
    "                    writer.add_scalar('info/val_{}_dice'.format(class_i+1), metric_list[class_i, 0], iter_num)\n",
    "                    writer.add_scalar('info/val_{}_hd95'.format(class_i+1), metric_list[class_i, 1], iter_num)\n",
    "\n",
    "                performance = np.mean(metric_list, axis=0)[0]\n",
    "                writer.add_scalar('info/val_mean_dice', performance, iter_num)\n",
    "\n",
    "                if performance > best_performance:\n",
    "                    best_performance = performance\n",
    "                    save_mode_path = os.path.join(snapshot_path, 'iter_{}_dice_{}.pth'.format(iter_num, round(best_performance, 4)))\n",
    "                    save_best_path = os.path.join(snapshot_path,'{}_best_model.pth'.format(args.model))\n",
    "                    torch.save(model.state_dict(), save_mode_path)\n",
    "                    torch.save(model.state_dict(), save_best_path)\n",
    "\n",
    "                logging.info('iteration %d : mean_dice : %f' % (iter_num, performance))\n",
    "                model.train()\n",
    "\n",
    "            if iter_num >= max_iterations:\n",
    "                break\n",
    "        if iter_num >= max_iterations:\n",
    "            iterator.close()\n",
    "            break\n",
    "    writer.close()\n"
   ]
  },
  {
   "cell_type": "code",
   "execution_count": 20,
   "metadata": {},
   "outputs": [
    {
     "name": "stdout",
     "output_type": "stream",
     "text": [
      "Pretrain log path: ./model/BCP/ACDC_BCP_7_labeled/pretrain/log.txt\n",
      "Self-train log path: ./model/BCP/ACDC_BCP_7_labeled/selftrain/log.txt\n",
      "Total slices: 1312\n",
      "Total slices: 20\n",
      "Total slice is 1312, Labeled slice is 136\n",
      "Start pre-training\n",
      "11 iterations per epoch\n"
     ]
    },
    {
     "name": "stderr",
     "output_type": "stream",
     "text": [
      "  0%|                                          | 0/37 [00:00<?, ?it/s]"
     ]
    },
    {
     "name": "stdout",
     "output_type": "stream",
     "text": [
      "iteration 1: loss 2.311362, mix_dice: 1.668222, mix_ce: 2.954502\n",
      "iteration 2: loss 2.158126, mix_dice: 1.645628, mix_ce: 2.670624\n",
      "iteration 3: loss 1.882130, mix_dice: 1.587863, mix_ce: 2.176397\n",
      "iteration 4: loss 1.582077, mix_dice: 1.514468, mix_ce: 1.649685\n",
      "iteration 5: loss 1.322685, mix_dice: 1.451923, mix_ce: 1.193448\n",
      "iteration 6: loss 1.119387, mix_dice: 1.405992, mix_ce: 0.832782\n",
      "iteration 7: loss 1.010115, mix_dice: 1.379674, mix_ce: 0.640556\n",
      "iteration 8: loss 0.916543, mix_dice: 1.388362, mix_ce: 0.444724\n",
      "iteration 9: loss 0.887238, mix_dice: 1.378385, mix_ce: 0.396090\n",
      "iteration 10: loss 0.892786, mix_dice: 1.425456, mix_ce: 0.360116\n",
      "iteration 11: loss 0.947268, mix_dice: 1.382958, mix_ce: 0.511579\n"
     ]
    },
    {
     "name": "stderr",
     "output_type": "stream",
     "text": [
      "  3%|▉                                 | 1/37 [00:01<00:45,  1.27s/it]"
     ]
    },
    {
     "name": "stdout",
     "output_type": "stream",
     "text": [
      "iteration 12: loss 0.917974, mix_dice: 1.382751, mix_ce: 0.453198\n",
      "iteration 13: loss 0.876567, mix_dice: 1.341477, mix_ce: 0.411657\n",
      "iteration 14: loss 0.943996, mix_dice: 1.410683, mix_ce: 0.477310\n",
      "iteration 15: loss 0.898264, mix_dice: 1.396505, mix_ce: 0.400024\n",
      "iteration 16: loss 1.000480, mix_dice: 1.412440, mix_ce: 0.588519\n",
      "iteration 17: loss 0.886703, mix_dice: 1.408946, mix_ce: 0.364461\n",
      "iteration 18: loss 0.902835, mix_dice: 1.341402, mix_ce: 0.464269\n",
      "iteration 19: loss 0.941350, mix_dice: 1.414738, mix_ce: 0.467961\n",
      "iteration 20: loss 0.869380, mix_dice: 1.434147, mix_ce: 0.304614\n",
      "iteration 21: loss 0.949446, mix_dice: 1.426566, mix_ce: 0.472326\n",
      "iteration 22: loss 0.856860, mix_dice: 1.388643, mix_ce: 0.325076\n"
     ]
    },
    {
     "name": "stderr",
     "output_type": "stream",
     "text": [
      "  5%|█▊                                | 2/37 [00:02<00:34,  1.02it/s]"
     ]
    },
    {
     "name": "stdout",
     "output_type": "stream",
     "text": [
      "iteration 23: loss 0.890224, mix_dice: 1.380850, mix_ce: 0.399598\n",
      "iteration 24: loss 0.879951, mix_dice: 1.355667, mix_ce: 0.404234\n",
      "iteration 25: loss 1.023263, mix_dice: 1.399924, mix_ce: 0.646603\n",
      "iteration 26: loss 0.859988, mix_dice: 1.296845, mix_ce: 0.423131\n",
      "iteration 27: loss 0.844160, mix_dice: 1.352127, mix_ce: 0.336194\n",
      "iteration 28: loss 0.887816, mix_dice: 1.373516, mix_ce: 0.402116\n",
      "iteration 29: loss 0.869121, mix_dice: 1.357193, mix_ce: 0.381049\n",
      "iteration 30: loss 0.993220, mix_dice: 1.455630, mix_ce: 0.530810\n",
      "iteration 31: loss 0.958963, mix_dice: 1.409350, mix_ce: 0.508576\n",
      "iteration 32: loss 0.901464, mix_dice: 1.389937, mix_ce: 0.412992\n",
      "iteration 33: loss 0.842478, mix_dice: 1.326654, mix_ce: 0.358303\n"
     ]
    },
    {
     "name": "stderr",
     "output_type": "stream",
     "text": [
      "  8%|██▊                               | 3/37 [00:02<00:30,  1.13it/s]"
     ]
    },
    {
     "name": "stdout",
     "output_type": "stream",
     "text": [
      "iteration 34: loss 0.931241, mix_dice: 1.398945, mix_ce: 0.463538\n",
      "iteration 35: loss 0.841114, mix_dice: 1.296254, mix_ce: 0.385973\n",
      "iteration 36: loss 0.910951, mix_dice: 1.359834, mix_ce: 0.462068\n",
      "iteration 37: loss 0.923201, mix_dice: 1.402750, mix_ce: 0.443652\n",
      "iteration 38: loss 0.883460, mix_dice: 1.374273, mix_ce: 0.392647\n",
      "iteration 39: loss 0.848368, mix_dice: 1.419623, mix_ce: 0.277114\n",
      "iteration 40: loss 0.867007, mix_dice: 1.363967, mix_ce: 0.370048\n",
      "iteration 41: loss 0.891754, mix_dice: 1.431462, mix_ce: 0.352046\n",
      "iteration 42: loss 0.891011, mix_dice: 1.399373, mix_ce: 0.382648\n",
      "iteration 43: loss 0.833642, mix_dice: 1.362319, mix_ce: 0.304964\n",
      "iteration 44: loss 0.814097, mix_dice: 1.340514, mix_ce: 0.287680\n"
     ]
    },
    {
     "name": "stderr",
     "output_type": "stream",
     "text": [
      " 11%|███▋                              | 4/37 [00:03<00:27,  1.19it/s]"
     ]
    },
    {
     "name": "stdout",
     "output_type": "stream",
     "text": [
      "iteration 45: loss 0.793858, mix_dice: 1.284611, mix_ce: 0.303105\n",
      "iteration 46: loss 0.936135, mix_dice: 1.409691, mix_ce: 0.462579\n",
      "iteration 47: loss 0.862305, mix_dice: 1.323087, mix_ce: 0.401522\n",
      "iteration 48: loss 0.828952, mix_dice: 1.364495, mix_ce: 0.293410\n",
      "iteration 49: loss 0.794750, mix_dice: 1.297238, mix_ce: 0.292262\n",
      "iteration 50: loss 0.881786, mix_dice: 1.319920, mix_ce: 0.443653\n",
      "iteration 51: loss 0.862831, mix_dice: 1.420365, mix_ce: 0.305298\n",
      "iteration 52: loss 0.804362, mix_dice: 1.332614, mix_ce: 0.276110\n",
      "iteration 53: loss 0.836402, mix_dice: 1.321966, mix_ce: 0.350838\n",
      "iteration 54: loss 0.867220, mix_dice: 1.363717, mix_ce: 0.370724\n",
      "iteration 55: loss 0.796847, mix_dice: 1.204323, mix_ce: 0.389370\n"
     ]
    },
    {
     "name": "stderr",
     "output_type": "stream",
     "text": [
      " 14%|████▌                             | 5/37 [00:04<00:25,  1.25it/s]"
     ]
    },
    {
     "name": "stdout",
     "output_type": "stream",
     "text": [
      "iteration 56: loss 0.795989, mix_dice: 1.315032, mix_ce: 0.276947\n",
      "iteration 57: loss 0.817172, mix_dice: 1.257257, mix_ce: 0.377088\n",
      "iteration 58: loss 0.863400, mix_dice: 1.300637, mix_ce: 0.426162\n",
      "iteration 59: loss 0.850879, mix_dice: 1.351191, mix_ce: 0.350568\n",
      "iteration 60: loss 0.831964, mix_dice: 1.268912, mix_ce: 0.395017\n",
      "iteration 61: loss 0.888989, mix_dice: 1.359660, mix_ce: 0.418318\n",
      "iteration 62: loss 0.846825, mix_dice: 1.303778, mix_ce: 0.389872\n",
      "iteration 63: loss 0.756408, mix_dice: 1.237477, mix_ce: 0.275340\n",
      "iteration 64: loss 0.876660, mix_dice: 1.338503, mix_ce: 0.414817\n",
      "iteration 65: loss 0.758356, mix_dice: 1.207831, mix_ce: 0.308881\n",
      "iteration 66: loss 0.873477, mix_dice: 1.352881, mix_ce: 0.394073\n"
     ]
    },
    {
     "name": "stderr",
     "output_type": "stream",
     "text": [
      " 16%|█████▌                            | 6/37 [00:05<00:24,  1.25it/s]"
     ]
    },
    {
     "name": "stdout",
     "output_type": "stream",
     "text": [
      "iteration 67: loss 0.840473, mix_dice: 1.362358, mix_ce: 0.318589\n",
      "iteration 68: loss 0.776336, mix_dice: 1.271743, mix_ce: 0.280930\n",
      "iteration 69: loss 0.839200, mix_dice: 1.340083, mix_ce: 0.338317\n",
      "iteration 70: loss 0.841912, mix_dice: 1.300637, mix_ce: 0.383187\n",
      "iteration 71: loss 0.963508, mix_dice: 1.412705, mix_ce: 0.514312\n",
      "iteration 72: loss 0.776874, mix_dice: 1.250453, mix_ce: 0.303294\n",
      "iteration 73: loss 0.811730, mix_dice: 1.342596, mix_ce: 0.280863\n",
      "iteration 74: loss 0.799386, mix_dice: 1.243015, mix_ce: 0.355756\n",
      "iteration 75: loss 0.784466, mix_dice: 1.268545, mix_ce: 0.300387\n",
      "iteration 76: loss 0.741411, mix_dice: 1.211984, mix_ce: 0.270837\n",
      "iteration 77: loss 0.837829, mix_dice: 1.298498, mix_ce: 0.377160\n"
     ]
    },
    {
     "name": "stderr",
     "output_type": "stream",
     "text": [
      " 19%|██████▍                           | 7/37 [00:05<00:23,  1.28it/s]"
     ]
    },
    {
     "name": "stdout",
     "output_type": "stream",
     "text": [
      "iteration 78: loss 0.781686, mix_dice: 1.259284, mix_ce: 0.304088\n",
      "iteration 79: loss 0.827787, mix_dice: 1.325112, mix_ce: 0.330462\n",
      "iteration 80: loss 0.786571, mix_dice: 1.316383, mix_ce: 0.256760\n",
      "iteration 81: loss 0.801458, mix_dice: 1.236107, mix_ce: 0.366808\n",
      "iteration 82: loss 0.803922, mix_dice: 1.265287, mix_ce: 0.342557\n",
      "iteration 83: loss 0.748440, mix_dice: 1.220730, mix_ce: 0.276150\n",
      "iteration 84: loss 0.946557, mix_dice: 1.467619, mix_ce: 0.425495\n",
      "iteration 85: loss 0.811553, mix_dice: 1.318577, mix_ce: 0.304529\n",
      "iteration 86: loss 0.759938, mix_dice: 1.224133, mix_ce: 0.295744\n",
      "iteration 87: loss 0.817254, mix_dice: 1.311656, mix_ce: 0.322851\n",
      "iteration 88: loss 0.769758, mix_dice: 1.278936, mix_ce: 0.260580\n"
     ]
    },
    {
     "name": "stderr",
     "output_type": "stream",
     "text": [
      " 22%|███████▎                          | 8/37 [00:06<00:22,  1.27it/s]"
     ]
    },
    {
     "name": "stdout",
     "output_type": "stream",
     "text": [
      "iteration 89: loss 0.761085, mix_dice: 1.205491, mix_ce: 0.316680\n",
      "iteration 90: loss 0.796581, mix_dice: 1.271668, mix_ce: 0.321494\n",
      "iteration 91: loss 0.812811, mix_dice: 1.309918, mix_ce: 0.315705\n",
      "iteration 92: loss 0.733269, mix_dice: 1.150733, mix_ce: 0.315805\n",
      "iteration 93: loss 0.842396, mix_dice: 1.311216, mix_ce: 0.373576\n",
      "iteration 94: loss 0.776053, mix_dice: 1.255898, mix_ce: 0.296208\n",
      "iteration 95: loss 0.759374, mix_dice: 1.215813, mix_ce: 0.302936\n",
      "iteration 96: loss 0.785344, mix_dice: 1.260904, mix_ce: 0.309783\n",
      "iteration 97: loss 0.840625, mix_dice: 1.333210, mix_ce: 0.348041\n",
      "iteration 98: loss 0.685947, mix_dice: 1.164007, mix_ce: 0.207887\n",
      "iteration 99: loss 0.729871, mix_dice: 1.191180, mix_ce: 0.268563\n"
     ]
    },
    {
     "name": "stderr",
     "output_type": "stream",
     "text": [
      " 24%|████████▎                         | 9/37 [00:07<00:21,  1.29it/s]"
     ]
    },
    {
     "name": "stdout",
     "output_type": "stream",
     "text": [
      "iteration 100: loss 0.767697, mix_dice: 1.220072, mix_ce: 0.315322\n",
      "iteration 101: loss 0.726007, mix_dice: 1.237682, mix_ce: 0.214332\n",
      "iteration 102: loss 0.770468, mix_dice: 1.280253, mix_ce: 0.260683\n",
      "iteration 103: loss 0.712289, mix_dice: 1.217557, mix_ce: 0.207021\n",
      "iteration 104: loss 0.837080, mix_dice: 1.283152, mix_ce: 0.391007\n",
      "iteration 105: loss 0.719962, mix_dice: 1.231272, mix_ce: 0.208651\n",
      "iteration 106: loss 0.703168, mix_dice: 1.214529, mix_ce: 0.191808\n",
      "iteration 107: loss 0.767665, mix_dice: 1.285316, mix_ce: 0.250015\n",
      "iteration 108: loss 0.768623, mix_dice: 1.239977, mix_ce: 0.297269\n",
      "iteration 109: loss 0.758055, mix_dice: 1.214642, mix_ce: 0.301468\n",
      "iteration 110: loss 0.771640, mix_dice: 1.275182, mix_ce: 0.268097\n"
     ]
    },
    {
     "name": "stderr",
     "output_type": "stream",
     "text": [
      " 27%|████████▉                        | 10/37 [00:08<00:21,  1.27it/s]"
     ]
    },
    {
     "name": "stdout",
     "output_type": "stream",
     "text": [
      "iteration 111: loss 0.752620, mix_dice: 1.274833, mix_ce: 0.230407\n",
      "iteration 112: loss 0.745580, mix_dice: 1.208035, mix_ce: 0.283125\n",
      "iteration 113: loss 0.740859, mix_dice: 1.198487, mix_ce: 0.283231\n",
      "iteration 114: loss 0.734811, mix_dice: 1.198542, mix_ce: 0.271081\n",
      "iteration 115: loss 0.747350, mix_dice: 1.202859, mix_ce: 0.291840\n",
      "iteration 116: loss 0.697970, mix_dice: 1.150135, mix_ce: 0.245804\n",
      "iteration 117: loss 0.706288, mix_dice: 1.181973, mix_ce: 0.230603\n",
      "iteration 118: loss 0.669068, mix_dice: 1.123816, mix_ce: 0.214319\n",
      "iteration 119: loss 0.744267, mix_dice: 1.183625, mix_ce: 0.304908\n",
      "iteration 120: loss 0.754252, mix_dice: 1.160566, mix_ce: 0.347938\n",
      "iteration 121: loss 0.833036, mix_dice: 1.317243, mix_ce: 0.348828\n"
     ]
    },
    {
     "name": "stderr",
     "output_type": "stream",
     "text": [
      " 30%|█████████▊                       | 11/37 [00:09<00:20,  1.27it/s]"
     ]
    },
    {
     "name": "stdout",
     "output_type": "stream",
     "text": [
      "iteration 122: loss 0.762515, mix_dice: 1.206738, mix_ce: 0.318291\n",
      "iteration 123: loss 0.776054, mix_dice: 1.239038, mix_ce: 0.313069\n",
      "iteration 124: loss 0.760044, mix_dice: 1.262785, mix_ce: 0.257304\n",
      "iteration 125: loss 0.733408, mix_dice: 1.247697, mix_ce: 0.219120\n",
      "iteration 126: loss 0.778673, mix_dice: 1.275612, mix_ce: 0.281735\n",
      "iteration 127: loss 0.688041, mix_dice: 1.165775, mix_ce: 0.210307\n",
      "iteration 128: loss 0.776644, mix_dice: 1.267421, mix_ce: 0.285866\n",
      "iteration 129: loss 0.705531, mix_dice: 1.182367, mix_ce: 0.228695\n",
      "iteration 130: loss 0.669021, mix_dice: 1.133118, mix_ce: 0.204923\n",
      "iteration 131: loss 0.762300, mix_dice: 1.183152, mix_ce: 0.341449\n",
      "iteration 132: loss 0.834363, mix_dice: 1.344498, mix_ce: 0.324229\n"
     ]
    },
    {
     "name": "stderr",
     "output_type": "stream",
     "text": [
      " 32%|██████████▋                      | 12/37 [00:09<00:19,  1.28it/s]"
     ]
    },
    {
     "name": "stdout",
     "output_type": "stream",
     "text": [
      "iteration 133: loss 0.801739, mix_dice: 1.266932, mix_ce: 0.336547\n",
      "iteration 134: loss 0.731070, mix_dice: 1.232173, mix_ce: 0.229966\n",
      "iteration 135: loss 0.727155, mix_dice: 1.213759, mix_ce: 0.240552\n",
      "iteration 136: loss 0.840599, mix_dice: 1.313314, mix_ce: 0.367884\n",
      "iteration 137: loss 0.717452, mix_dice: 1.210027, mix_ce: 0.224878\n",
      "iteration 138: loss 0.751821, mix_dice: 1.257536, mix_ce: 0.246106\n",
      "iteration 139: loss 0.747064, mix_dice: 1.237794, mix_ce: 0.256333\n",
      "iteration 140: loss 0.764252, mix_dice: 1.223507, mix_ce: 0.304997\n",
      "iteration 141: loss 0.680447, mix_dice: 1.149424, mix_ce: 0.211471\n",
      "iteration 142: loss 0.679086, mix_dice: 1.155116, mix_ce: 0.203056\n",
      "iteration 143: loss 0.916033, mix_dice: 1.410600, mix_ce: 0.421466\n"
     ]
    },
    {
     "name": "stderr",
     "output_type": "stream",
     "text": [
      " 35%|███████████▌                     | 13/37 [00:10<00:18,  1.28it/s]"
     ]
    },
    {
     "name": "stdout",
     "output_type": "stream",
     "text": [
      "iteration 144: loss 0.845523, mix_dice: 1.323548, mix_ce: 0.367497\n",
      "iteration 145: loss 0.735003, mix_dice: 1.218303, mix_ce: 0.251704\n",
      "iteration 146: loss 0.771424, mix_dice: 1.231159, mix_ce: 0.311690\n",
      "iteration 147: loss 0.737230, mix_dice: 1.234417, mix_ce: 0.240043\n",
      "iteration 148: loss 0.718602, mix_dice: 1.194640, mix_ce: 0.242563\n",
      "iteration 149: loss 0.742863, mix_dice: 1.207501, mix_ce: 0.278225\n",
      "iteration 150: loss 0.743219, mix_dice: 1.240805, mix_ce: 0.245633\n",
      "iteration 151: loss 0.627685, mix_dice: 1.045539, mix_ce: 0.209831\n",
      "iteration 152: loss 0.706826, mix_dice: 1.200148, mix_ce: 0.213504\n",
      "iteration 153: loss 0.706032, mix_dice: 1.216519, mix_ce: 0.195544\n",
      "iteration 154: loss 0.743828, mix_dice: 1.208741, mix_ce: 0.278916\n"
     ]
    },
    {
     "name": "stderr",
     "output_type": "stream",
     "text": [
      " 38%|████████████▍                    | 14/37 [00:11<00:17,  1.30it/s]"
     ]
    },
    {
     "name": "stdout",
     "output_type": "stream",
     "text": [
      "iteration 155: loss 0.722928, mix_dice: 1.200543, mix_ce: 0.245313\n",
      "iteration 156: loss 0.689518, mix_dice: 1.165928, mix_ce: 0.213108\n",
      "iteration 157: loss 0.769561, mix_dice: 1.272362, mix_ce: 0.266759\n",
      "iteration 158: loss 0.690949, mix_dice: 1.166093, mix_ce: 0.215804\n",
      "iteration 159: loss 0.785410, mix_dice: 1.240302, mix_ce: 0.330518\n",
      "iteration 160: loss 0.667881, mix_dice: 1.157517, mix_ce: 0.178246\n",
      "iteration 161: loss 0.756016, mix_dice: 1.255569, mix_ce: 0.256462\n",
      "iteration 162: loss 0.845638, mix_dice: 1.352599, mix_ce: 0.338677\n",
      "iteration 163: loss 0.733664, mix_dice: 1.184262, mix_ce: 0.283067\n",
      "iteration 164: loss 0.713299, mix_dice: 1.165889, mix_ce: 0.260708\n",
      "iteration 165: loss 0.803324, mix_dice: 1.278765, mix_ce: 0.327883\n"
     ]
    },
    {
     "name": "stderr",
     "output_type": "stream",
     "text": [
      " 41%|█████████████▍                   | 15/37 [00:12<00:17,  1.26it/s]"
     ]
    },
    {
     "name": "stdout",
     "output_type": "stream",
     "text": [
      "iteration 166: loss 0.682841, mix_dice: 1.182991, mix_ce: 0.182691\n",
      "iteration 167: loss 0.762205, mix_dice: 1.220304, mix_ce: 0.304105\n",
      "iteration 168: loss 0.795663, mix_dice: 1.276251, mix_ce: 0.315074\n",
      "iteration 169: loss 0.692642, mix_dice: 1.152909, mix_ce: 0.232374\n",
      "iteration 170: loss 0.745149, mix_dice: 1.234298, mix_ce: 0.256000\n",
      "iteration 171: loss 0.651603, mix_dice: 1.133370, mix_ce: 0.169837\n",
      "iteration 172: loss 0.678033, mix_dice: 1.113343, mix_ce: 0.242724\n",
      "iteration 173: loss 0.747644, mix_dice: 1.203048, mix_ce: 0.292240\n",
      "iteration 174: loss 0.708499, mix_dice: 1.205441, mix_ce: 0.211558\n",
      "iteration 175: loss 0.732032, mix_dice: 1.184566, mix_ce: 0.279497\n",
      "iteration 176: loss 0.696603, mix_dice: 1.213626, mix_ce: 0.179579\n"
     ]
    },
    {
     "name": "stderr",
     "output_type": "stream",
     "text": [
      " 43%|██████████████▎                  | 16/37 [00:12<00:16,  1.28it/s]"
     ]
    },
    {
     "name": "stdout",
     "output_type": "stream",
     "text": [
      "iteration 177: loss 0.715010, mix_dice: 1.221772, mix_ce: 0.208248\n",
      "iteration 178: loss 0.729056, mix_dice: 1.189210, mix_ce: 0.268901\n",
      "iteration 179: loss 0.764040, mix_dice: 1.251309, mix_ce: 0.276770\n",
      "iteration 180: loss 0.622627, mix_dice: 1.090222, mix_ce: 0.155032\n",
      "iteration 181: loss 0.683726, mix_dice: 1.110645, mix_ce: 0.256807\n",
      "iteration 182: loss 0.685832, mix_dice: 1.127025, mix_ce: 0.244640\n",
      "iteration 183: loss 0.726522, mix_dice: 1.227275, mix_ce: 0.225770\n",
      "iteration 184: loss 0.621318, mix_dice: 1.028063, mix_ce: 0.214573\n",
      "iteration 185: loss 0.692490, mix_dice: 1.168275, mix_ce: 0.216706\n",
      "iteration 186: loss 0.741329, mix_dice: 1.215802, mix_ce: 0.266855\n",
      "iteration 187: loss 0.642837, mix_dice: 1.102865, mix_ce: 0.182809\n"
     ]
    },
    {
     "name": "stderr",
     "output_type": "stream",
     "text": [
      " 46%|███████████████▏                 | 17/37 [00:13<00:15,  1.28it/s]"
     ]
    },
    {
     "name": "stdout",
     "output_type": "stream",
     "text": [
      "iteration 188: loss 0.721659, mix_dice: 1.212684, mix_ce: 0.230634\n",
      "iteration 189: loss 0.722847, mix_dice: 1.222517, mix_ce: 0.223176\n",
      "iteration 190: loss 0.626972, mix_dice: 1.073727, mix_ce: 0.180216\n",
      "iteration 191: loss 0.697737, mix_dice: 1.192454, mix_ce: 0.203020\n",
      "iteration 192: loss 0.774064, mix_dice: 1.284912, mix_ce: 0.263216\n",
      "iteration 193: loss 0.737606, mix_dice: 1.212446, mix_ce: 0.262766\n",
      "iteration 194: loss 0.707990, mix_dice: 1.232242, mix_ce: 0.183738\n",
      "iteration 195: loss 0.690944, mix_dice: 1.182533, mix_ce: 0.199356\n",
      "iteration 196: loss 0.661576, mix_dice: 1.132063, mix_ce: 0.191089\n",
      "iteration 197: loss 0.752214, mix_dice: 1.174462, mix_ce: 0.329965\n",
      "iteration 198: loss 0.684943, mix_dice: 1.174982, mix_ce: 0.194904\n"
     ]
    },
    {
     "name": "stderr",
     "output_type": "stream",
     "text": [
      " 49%|████████████████                 | 18/37 [00:14<00:14,  1.30it/s]"
     ]
    },
    {
     "name": "stdout",
     "output_type": "stream",
     "text": [
      "iteration 199: loss 0.748723, mix_dice: 1.218002, mix_ce: 0.279443\n",
      "iteration 200: loss 0.659323, mix_dice: 1.119105, mix_ce: 0.199541\n",
      "iteration 200 : mean dice : 0.334669\n",
      "iteration 201: loss 0.673093, mix_dice: 1.118562, mix_ce: 0.227625\n",
      "iteration 202: loss 0.686073, mix_dice: 1.149149, mix_ce: 0.222996\n",
      "iteration 203: loss 0.637258, mix_dice: 1.072922, mix_ce: 0.201594\n",
      "iteration 204: loss 0.626628, mix_dice: 1.066600, mix_ce: 0.186656\n",
      "iteration 205: loss 0.752598, mix_dice: 1.273502, mix_ce: 0.231693\n",
      "iteration 206: loss 0.660614, mix_dice: 1.029794, mix_ce: 0.291434\n",
      "iteration 207: loss 0.682192, mix_dice: 1.151660, mix_ce: 0.212724\n",
      "iteration 208: loss 0.728150, mix_dice: 1.120447, mix_ce: 0.335853\n",
      "iteration 209: loss 0.656492, mix_dice: 1.133996, mix_ce: 0.178989\n"
     ]
    },
    {
     "name": "stderr",
     "output_type": "stream",
     "text": [
      " 51%|████████████████▉                | 19/37 [00:22<00:53,  2.98s/it]"
     ]
    },
    {
     "name": "stdout",
     "output_type": "stream",
     "text": [
      "iteration 210: loss 0.542158, mix_dice: 0.920984, mix_ce: 0.163332\n",
      "iteration 211: loss 0.661399, mix_dice: 1.121684, mix_ce: 0.201114\n",
      "iteration 212: loss 0.617906, mix_dice: 1.035367, mix_ce: 0.200446\n",
      "iteration 213: loss 0.684319, mix_dice: 1.149481, mix_ce: 0.219157\n",
      "iteration 214: loss 0.622772, mix_dice: 1.055501, mix_ce: 0.190043\n",
      "iteration 215: loss 0.562201, mix_dice: 0.828294, mix_ce: 0.296108\n",
      "iteration 216: loss 0.701813, mix_dice: 1.152023, mix_ce: 0.251603\n",
      "iteration 217: loss 0.709609, mix_dice: 1.176254, mix_ce: 0.242963\n",
      "iteration 218: loss 0.689076, mix_dice: 1.170355, mix_ce: 0.207796\n",
      "iteration 219: loss 0.752823, mix_dice: 1.267221, mix_ce: 0.238424\n",
      "iteration 220: loss 0.671349, mix_dice: 1.146641, mix_ce: 0.196058\n"
     ]
    },
    {
     "name": "stderr",
     "output_type": "stream",
     "text": [
      " 54%|█████████████████▊               | 20/37 [00:23<00:40,  2.36s/it]"
     ]
    },
    {
     "name": "stdout",
     "output_type": "stream",
     "text": [
      "iteration 221: loss 0.573642, mix_dice: 0.957881, mix_ce: 0.189404\n",
      "iteration 222: loss 0.633645, mix_dice: 1.098855, mix_ce: 0.168434\n",
      "iteration 223: loss 0.649471, mix_dice: 1.099516, mix_ce: 0.199425\n",
      "iteration 224: loss 0.670605, mix_dice: 1.045474, mix_ce: 0.295735\n",
      "iteration 225: loss 0.638438, mix_dice: 1.085541, mix_ce: 0.191334\n",
      "iteration 226: loss 0.655848, mix_dice: 1.081789, mix_ce: 0.229906\n",
      "iteration 227: loss 0.727592, mix_dice: 1.191179, mix_ce: 0.264005\n",
      "iteration 228: loss 0.759116, mix_dice: 1.158554, mix_ce: 0.359679\n",
      "iteration 229: loss 0.669001, mix_dice: 1.131886, mix_ce: 0.206116\n",
      "iteration 230: loss 0.683851, mix_dice: 1.121606, mix_ce: 0.246096\n",
      "iteration 231: loss 0.633414, mix_dice: 1.083724, mix_ce: 0.183105\n"
     ]
    },
    {
     "name": "stderr",
     "output_type": "stream",
     "text": [
      " 57%|██████████████████▋              | 21/37 [00:24<00:30,  1.93s/it]"
     ]
    },
    {
     "name": "stdout",
     "output_type": "stream",
     "text": [
      "iteration 232: loss 0.770835, mix_dice: 1.263961, mix_ce: 0.277709\n",
      "iteration 233: loss 0.711321, mix_dice: 1.159066, mix_ce: 0.263576\n",
      "iteration 234: loss 0.619768, mix_dice: 1.053815, mix_ce: 0.185721\n",
      "iteration 235: loss 0.588748, mix_dice: 0.971972, mix_ce: 0.205525\n",
      "iteration 236: loss 0.639669, mix_dice: 1.090240, mix_ce: 0.189098\n",
      "iteration 237: loss 0.634480, mix_dice: 1.030855, mix_ce: 0.238105\n",
      "iteration 238: loss 0.609516, mix_dice: 1.026533, mix_ce: 0.192499\n",
      "iteration 239: loss 0.624184, mix_dice: 1.040295, mix_ce: 0.208072\n",
      "iteration 240: loss 0.665462, mix_dice: 1.083720, mix_ce: 0.247203\n",
      "iteration 241: loss 0.597600, mix_dice: 1.017393, mix_ce: 0.177807\n",
      "iteration 242: loss 0.618445, mix_dice: 1.039620, mix_ce: 0.197269\n"
     ]
    },
    {
     "name": "stderr",
     "output_type": "stream",
     "text": [
      " 59%|███████████████████▌             | 22/37 [00:25<00:24,  1.61s/it]"
     ]
    },
    {
     "name": "stdout",
     "output_type": "stream",
     "text": [
      "iteration 243: loss 0.603922, mix_dice: 1.021448, mix_ce: 0.186396\n",
      "iteration 244: loss 0.716615, mix_dice: 1.187838, mix_ce: 0.245392\n",
      "iteration 245: loss 0.626781, mix_dice: 0.919361, mix_ce: 0.334200\n",
      "iteration 246: loss 0.606676, mix_dice: 1.038894, mix_ce: 0.174458\n",
      "iteration 247: loss 0.714754, mix_dice: 1.159701, mix_ce: 0.269807\n",
      "iteration 248: loss 0.599778, mix_dice: 1.033644, mix_ce: 0.165912\n",
      "iteration 249: loss 0.689043, mix_dice: 1.138900, mix_ce: 0.239186\n",
      "iteration 250: loss 0.683673, mix_dice: 1.131893, mix_ce: 0.235453\n",
      "iteration 251: loss 0.537670, mix_dice: 0.877016, mix_ce: 0.198323\n",
      "iteration 252: loss 0.656570, mix_dice: 1.090225, mix_ce: 0.222915\n",
      "iteration 253: loss 0.497573, mix_dice: 0.872782, mix_ce: 0.122363\n"
     ]
    },
    {
     "name": "stderr",
     "output_type": "stream",
     "text": [
      " 62%|████████████████████▌            | 23/37 [00:26<00:19,  1.37s/it]"
     ]
    },
    {
     "name": "stdout",
     "output_type": "stream",
     "text": [
      "iteration 254: loss 0.651732, mix_dice: 1.105172, mix_ce: 0.198293\n",
      "iteration 255: loss 0.641149, mix_dice: 1.120320, mix_ce: 0.161977\n",
      "iteration 256: loss 0.599569, mix_dice: 1.003698, mix_ce: 0.195440\n",
      "iteration 257: loss 0.620146, mix_dice: 0.987503, mix_ce: 0.252789\n",
      "iteration 258: loss 0.666496, mix_dice: 1.105942, mix_ce: 0.227050\n",
      "iteration 259: loss 0.652545, mix_dice: 1.096372, mix_ce: 0.208718\n",
      "iteration 260: loss 0.572896, mix_dice: 0.923835, mix_ce: 0.221957\n",
      "iteration 261: loss 0.750520, mix_dice: 1.191664, mix_ce: 0.309376\n",
      "iteration 262: loss 0.526531, mix_dice: 0.916470, mix_ce: 0.136592\n",
      "iteration 263: loss 0.669693, mix_dice: 1.157072, mix_ce: 0.182314\n",
      "iteration 264: loss 0.686721, mix_dice: 1.098877, mix_ce: 0.274566\n"
     ]
    },
    {
     "name": "stderr",
     "output_type": "stream",
     "text": [
      " 65%|█████████████████████▍           | 24/37 [00:26<00:16,  1.23s/it]"
     ]
    },
    {
     "name": "stdout",
     "output_type": "stream",
     "text": [
      "iteration 265: loss 0.668958, mix_dice: 1.117826, mix_ce: 0.220091\n",
      "iteration 266: loss 0.521351, mix_dice: 0.903024, mix_ce: 0.139678\n",
      "iteration 267: loss 0.551781, mix_dice: 0.971388, mix_ce: 0.132174\n",
      "iteration 268: loss 0.531972, mix_dice: 0.902944, mix_ce: 0.161000\n",
      "iteration 269: loss 0.657560, mix_dice: 1.138029, mix_ce: 0.177091\n",
      "iteration 270: loss 0.626663, mix_dice: 1.087306, mix_ce: 0.166019\n",
      "iteration 271: loss 0.781779, mix_dice: 1.170869, mix_ce: 0.392689\n",
      "iteration 272: loss 0.697370, mix_dice: 1.074791, mix_ce: 0.319949\n",
      "iteration 273: loss 0.605411, mix_dice: 1.021350, mix_ce: 0.189472\n",
      "iteration 274: loss 0.687816, mix_dice: 1.115100, mix_ce: 0.260532\n",
      "iteration 275: loss 0.583047, mix_dice: 0.953306, mix_ce: 0.212787\n"
     ]
    },
    {
     "name": "stderr",
     "output_type": "stream",
     "text": [
      " 68%|██████████████████████▎          | 25/37 [00:27<00:13,  1.10s/it]"
     ]
    },
    {
     "name": "stdout",
     "output_type": "stream",
     "text": [
      "iteration 276: loss 0.563991, mix_dice: 0.972576, mix_ce: 0.155406\n",
      "iteration 277: loss 0.730181, mix_dice: 1.164184, mix_ce: 0.296178\n",
      "iteration 278: loss 0.663059, mix_dice: 1.095394, mix_ce: 0.230723\n",
      "iteration 279: loss 0.716006, mix_dice: 1.187593, mix_ce: 0.244420\n",
      "iteration 280: loss 0.656472, mix_dice: 1.082502, mix_ce: 0.230442\n",
      "iteration 281: loss 0.608676, mix_dice: 1.013019, mix_ce: 0.204333\n",
      "iteration 282: loss 0.653697, mix_dice: 1.102993, mix_ce: 0.204400\n",
      "iteration 283: loss 0.687352, mix_dice: 1.149884, mix_ce: 0.224820\n",
      "iteration 284: loss 0.607151, mix_dice: 1.043067, mix_ce: 0.171234\n",
      "iteration 285: loss 0.588941, mix_dice: 1.009418, mix_ce: 0.168463\n",
      "iteration 286: loss 0.614820, mix_dice: 1.037034, mix_ce: 0.192606\n"
     ]
    },
    {
     "name": "stderr",
     "output_type": "stream",
     "text": [
      " 70%|███████████████████████▏         | 26/37 [00:28<00:11,  1.05s/it]"
     ]
    },
    {
     "name": "stdout",
     "output_type": "stream",
     "text": [
      "iteration 287: loss 0.563357, mix_dice: 1.000725, mix_ce: 0.125989\n",
      "iteration 288: loss 0.551422, mix_dice: 0.966031, mix_ce: 0.136813\n",
      "iteration 289: loss 0.611042, mix_dice: 1.031286, mix_ce: 0.190797\n",
      "iteration 290: loss 0.639935, mix_dice: 1.063554, mix_ce: 0.216315\n",
      "iteration 291: loss 0.597602, mix_dice: 0.978959, mix_ce: 0.216246\n",
      "iteration 292: loss 0.652325, mix_dice: 1.054965, mix_ce: 0.249685\n",
      "iteration 293: loss 0.657006, mix_dice: 1.040078, mix_ce: 0.273935\n",
      "iteration 294: loss 0.625901, mix_dice: 1.027646, mix_ce: 0.224156\n",
      "iteration 295: loss 0.639545, mix_dice: 1.007269, mix_ce: 0.271822\n",
      "iteration 296: loss 0.591205, mix_dice: 0.980072, mix_ce: 0.202338\n",
      "iteration 297: loss 0.621485, mix_dice: 1.003024, mix_ce: 0.239947\n"
     ]
    },
    {
     "name": "stderr",
     "output_type": "stream",
     "text": [
      " 73%|████████████████████████         | 27/37 [00:29<00:10,  1.00s/it]"
     ]
    },
    {
     "name": "stdout",
     "output_type": "stream",
     "text": [
      "iteration 298: loss 0.716446, mix_dice: 1.211701, mix_ce: 0.221192\n",
      "iteration 299: loss 0.614447, mix_dice: 0.993896, mix_ce: 0.234999\n",
      "iteration 300: loss 0.627385, mix_dice: 1.077786, mix_ce: 0.176984\n",
      "iteration 301: loss 0.481601, mix_dice: 0.817601, mix_ce: 0.145601\n",
      "iteration 302: loss 0.565760, mix_dice: 0.971146, mix_ce: 0.160373\n",
      "iteration 303: loss 0.683119, mix_dice: 1.123972, mix_ce: 0.242266\n",
      "iteration 304: loss 0.581910, mix_dice: 0.947117, mix_ce: 0.216704\n",
      "iteration 305: loss 0.570369, mix_dice: 0.985679, mix_ce: 0.155060\n",
      "iteration 306: loss 0.553508, mix_dice: 0.898399, mix_ce: 0.208618\n",
      "iteration 307: loss 0.550860, mix_dice: 0.948626, mix_ce: 0.153094\n",
      "iteration 308: loss 0.544864, mix_dice: 0.949007, mix_ce: 0.140722\n"
     ]
    },
    {
     "name": "stderr",
     "output_type": "stream",
     "text": [
      " 76%|████████████████████████▉        | 28/37 [00:30<00:08,  1.04it/s]"
     ]
    },
    {
     "name": "stdout",
     "output_type": "stream",
     "text": [
      "iteration 309: loss 0.603291, mix_dice: 1.035309, mix_ce: 0.171273\n",
      "iteration 310: loss 0.582520, mix_dice: 1.001685, mix_ce: 0.163355\n",
      "iteration 311: loss 0.619962, mix_dice: 1.047013, mix_ce: 0.192911\n",
      "iteration 312: loss 0.623114, mix_dice: 1.034469, mix_ce: 0.211760\n",
      "iteration 313: loss 0.524362, mix_dice: 0.909340, mix_ce: 0.139383\n",
      "iteration 314: loss 0.590376, mix_dice: 1.029830, mix_ce: 0.150923\n",
      "iteration 315: loss 0.567922, mix_dice: 0.989749, mix_ce: 0.146095\n",
      "iteration 316: loss 0.546008, mix_dice: 0.956448, mix_ce: 0.135567\n",
      "iteration 317: loss 0.591842, mix_dice: 0.985973, mix_ce: 0.197711\n",
      "iteration 318: loss 0.646123, mix_dice: 1.023139, mix_ce: 0.269107\n",
      "iteration 319: loss 0.687629, mix_dice: 1.135720, mix_ce: 0.239537\n"
     ]
    },
    {
     "name": "stderr",
     "output_type": "stream",
     "text": [
      " 78%|█████████████████████████▊       | 29/37 [00:31<00:07,  1.09it/s]"
     ]
    },
    {
     "name": "stdout",
     "output_type": "stream",
     "text": [
      "iteration 320: loss 0.530954, mix_dice: 0.923492, mix_ce: 0.138416\n",
      "iteration 321: loss 0.540060, mix_dice: 0.962174, mix_ce: 0.117946\n",
      "iteration 322: loss 0.544030, mix_dice: 0.937471, mix_ce: 0.150589\n",
      "iteration 323: loss 0.571004, mix_dice: 0.987131, mix_ce: 0.154877\n",
      "iteration 324: loss 0.568295, mix_dice: 0.999468, mix_ce: 0.137122\n",
      "iteration 325: loss 0.509018, mix_dice: 0.929737, mix_ce: 0.088300\n",
      "iteration 326: loss 0.628607, mix_dice: 1.017078, mix_ce: 0.240137\n",
      "iteration 327: loss 0.575202, mix_dice: 0.969285, mix_ce: 0.181118\n",
      "iteration 328: loss 0.588407, mix_dice: 0.994937, mix_ce: 0.181877\n",
      "iteration 329: loss 0.553669, mix_dice: 0.938991, mix_ce: 0.168348\n",
      "iteration 330: loss 0.517586, mix_dice: 0.928846, mix_ce: 0.106325\n"
     ]
    },
    {
     "name": "stderr",
     "output_type": "stream",
     "text": [
      " 81%|██████████████████████████▊      | 30/37 [00:32<00:06,  1.11it/s]"
     ]
    },
    {
     "name": "stdout",
     "output_type": "stream",
     "text": [
      "iteration 331: loss 0.591406, mix_dice: 1.033285, mix_ce: 0.149527\n",
      "iteration 332: loss 0.589741, mix_dice: 0.986563, mix_ce: 0.192918\n",
      "iteration 333: loss 0.569340, mix_dice: 0.966839, mix_ce: 0.171841\n",
      "iteration 334: loss 0.571570, mix_dice: 1.005221, mix_ce: 0.137918\n",
      "iteration 335: loss 0.576931, mix_dice: 0.987539, mix_ce: 0.166322\n",
      "iteration 336: loss 0.522912, mix_dice: 0.925878, mix_ce: 0.119947\n",
      "iteration 337: loss 0.511962, mix_dice: 0.853952, mix_ce: 0.169972\n",
      "iteration 338: loss 0.443049, mix_dice: 0.750850, mix_ce: 0.135248\n",
      "iteration 339: loss 0.597390, mix_dice: 1.005115, mix_ce: 0.189665\n",
      "iteration 340: loss 0.587915, mix_dice: 0.992818, mix_ce: 0.183012\n",
      "iteration 341: loss 0.582671, mix_dice: 1.003233, mix_ce: 0.162108\n"
     ]
    },
    {
     "name": "stderr",
     "output_type": "stream",
     "text": [
      " 84%|███████████████████████████▋     | 31/37 [00:33<00:05,  1.12it/s]"
     ]
    },
    {
     "name": "stdout",
     "output_type": "stream",
     "text": [
      "iteration 342: loss 0.566731, mix_dice: 0.966999, mix_ce: 0.166464\n",
      "iteration 343: loss 0.614362, mix_dice: 1.033542, mix_ce: 0.195182\n",
      "iteration 344: loss 0.638096, mix_dice: 1.051639, mix_ce: 0.224553\n",
      "iteration 345: loss 0.522688, mix_dice: 0.922517, mix_ce: 0.122860\n",
      "iteration 346: loss 0.536184, mix_dice: 0.859339, mix_ce: 0.213028\n",
      "iteration 347: loss 0.604740, mix_dice: 0.967914, mix_ce: 0.241566\n",
      "iteration 348: loss 0.519223, mix_dice: 0.921892, mix_ce: 0.116553\n",
      "iteration 349: loss 0.469636, mix_dice: 0.842837, mix_ce: 0.096435\n",
      "iteration 350: loss 0.509988, mix_dice: 0.905838, mix_ce: 0.114138\n",
      "iteration 351: loss 0.475610, mix_dice: 0.806626, mix_ce: 0.144594\n",
      "iteration 352: loss 0.527320, mix_dice: 0.941304, mix_ce: 0.113335\n"
     ]
    },
    {
     "name": "stderr",
     "output_type": "stream",
     "text": [
      " 86%|████████████████████████████▌    | 32/37 [00:33<00:04,  1.16it/s]"
     ]
    },
    {
     "name": "stdout",
     "output_type": "stream",
     "text": [
      "iteration 353: loss 0.553108, mix_dice: 0.972263, mix_ce: 0.133954\n",
      "iteration 354: loss 0.554634, mix_dice: 1.006947, mix_ce: 0.102321\n",
      "iteration 355: loss 0.496885, mix_dice: 0.888674, mix_ce: 0.105097\n",
      "iteration 356: loss 0.508343, mix_dice: 0.915776, mix_ce: 0.100910\n",
      "iteration 357: loss 0.602681, mix_dice: 1.010797, mix_ce: 0.194564\n",
      "iteration 358: loss 0.645926, mix_dice: 1.059620, mix_ce: 0.232231\n",
      "iteration 359: loss 0.529425, mix_dice: 0.878869, mix_ce: 0.179980\n",
      "iteration 360: loss 0.544810, mix_dice: 0.939725, mix_ce: 0.149895\n",
      "iteration 361: loss 0.540834, mix_dice: 0.929619, mix_ce: 0.152049\n",
      "iteration 362: loss 0.519360, mix_dice: 0.857591, mix_ce: 0.181130\n",
      "iteration 363: loss 0.586935, mix_dice: 1.019754, mix_ce: 0.154117\n"
     ]
    },
    {
     "name": "stderr",
     "output_type": "stream",
     "text": [
      " 89%|█████████████████████████████▍   | 33/37 [00:34<00:03,  1.16it/s]"
     ]
    },
    {
     "name": "stdout",
     "output_type": "stream",
     "text": [
      "iteration 364: loss 0.672165, mix_dice: 1.125167, mix_ce: 0.219162\n",
      "iteration 365: loss 0.535151, mix_dice: 0.938391, mix_ce: 0.131911\n",
      "iteration 366: loss 0.469307, mix_dice: 0.799857, mix_ce: 0.138757\n",
      "iteration 367: loss 0.591966, mix_dice: 1.001443, mix_ce: 0.182489\n",
      "iteration 368: loss 0.770559, mix_dice: 1.176610, mix_ce: 0.364507\n",
      "iteration 369: loss 0.585701, mix_dice: 0.973735, mix_ce: 0.197668\n",
      "iteration 370: loss 0.528869, mix_dice: 0.930254, mix_ce: 0.127484\n",
      "iteration 371: loss 0.660108, mix_dice: 1.089040, mix_ce: 0.231177\n",
      "iteration 372: loss 0.701976, mix_dice: 1.172050, mix_ce: 0.231902\n",
      "iteration 373: loss 0.585846, mix_dice: 0.982254, mix_ce: 0.189438\n",
      "iteration 374: loss 0.557597, mix_dice: 0.948007, mix_ce: 0.167186\n"
     ]
    },
    {
     "name": "stderr",
     "output_type": "stream",
     "text": [
      " 92%|██████████████████████████████▎  | 34/37 [00:35<00:02,  1.20it/s]"
     ]
    },
    {
     "name": "stdout",
     "output_type": "stream",
     "text": [
      "iteration 375: loss 0.643272, mix_dice: 1.117305, mix_ce: 0.169239\n",
      "iteration 376: loss 0.540008, mix_dice: 0.919304, mix_ce: 0.160712\n",
      "iteration 377: loss 0.549075, mix_dice: 0.909540, mix_ce: 0.188609\n",
      "iteration 378: loss 0.536849, mix_dice: 0.942758, mix_ce: 0.130941\n",
      "iteration 379: loss 0.658562, mix_dice: 1.131678, mix_ce: 0.185446\n",
      "iteration 380: loss 0.596741, mix_dice: 1.012467, mix_ce: 0.181015\n",
      "iteration 381: loss 0.583010, mix_dice: 0.986428, mix_ce: 0.179592\n",
      "iteration 382: loss 0.564834, mix_dice: 0.971981, mix_ce: 0.157687\n",
      "iteration 383: loss 0.495803, mix_dice: 0.850260, mix_ce: 0.141347\n",
      "iteration 384: loss 0.566004, mix_dice: 0.978886, mix_ce: 0.153122\n",
      "iteration 385: loss 0.593005, mix_dice: 0.966699, mix_ce: 0.219312\n"
     ]
    },
    {
     "name": "stderr",
     "output_type": "stream",
     "text": [
      " 95%|███████████████████████████████▏ | 35/37 [00:36<00:01,  1.20it/s]"
     ]
    },
    {
     "name": "stdout",
     "output_type": "stream",
     "text": [
      "iteration 386: loss 0.509992, mix_dice: 0.850936, mix_ce: 0.169047\n",
      "iteration 387: loss 0.538161, mix_dice: 0.867620, mix_ce: 0.208702\n",
      "iteration 388: loss 0.615012, mix_dice: 1.038119, mix_ce: 0.191905\n",
      "iteration 389: loss 0.680681, mix_dice: 1.125991, mix_ce: 0.235370\n",
      "iteration 390: loss 0.653950, mix_dice: 1.088577, mix_ce: 0.219322\n",
      "iteration 391: loss 0.551948, mix_dice: 0.969487, mix_ce: 0.134409\n",
      "iteration 392: loss 0.602007, mix_dice: 1.035932, mix_ce: 0.168082\n",
      "iteration 393: loss 0.444566, mix_dice: 0.773048, mix_ce: 0.116084\n",
      "iteration 394: loss 0.439483, mix_dice: 0.643160, mix_ce: 0.235805\n",
      "iteration 395: loss 0.734568, mix_dice: 1.276594, mix_ce: 0.192542\n",
      "iteration 396: loss 0.670772, mix_dice: 1.087008, mix_ce: 0.254537\n"
     ]
    },
    {
     "name": "stderr",
     "output_type": "stream",
     "text": [
      " 97%|████████████████████████████████ | 36/37 [00:37<00:00,  1.23it/s]"
     ]
    },
    {
     "name": "stdout",
     "output_type": "stream",
     "text": [
      "iteration 397: loss 0.561461, mix_dice: 1.003679, mix_ce: 0.119243\n",
      "iteration 398: loss 0.609728, mix_dice: 1.020160, mix_ce: 0.199295\n",
      "iteration 399: loss 0.542429, mix_dice: 0.962678, mix_ce: 0.122179\n",
      "iteration 400: loss 0.469323, mix_dice: 0.812316, mix_ce: 0.126331\n",
      "iteration 400 : mean dice : 0.550409\n"
     ]
    },
    {
     "name": "stderr",
     "output_type": "stream",
     "text": [
      " 97%|████████████████████████████████ | 36/37 [00:44<00:01,  1.24s/it]"
     ]
    },
    {
     "name": "stdout",
     "output_type": "stream",
     "text": [
      "Total slices: 1312\n",
      "Total slices: 20\n",
      "Total slices is: 1312, labeled slices is:136\n",
      "Loaded from ./model/BCP/ACDC_BCP_7_labeled/pretrain/unet_best_model.pth\n",
      "Loaded from ./model/BCP/ACDC_BCP_7_labeled/pretrain/unet_best_model.pth\n",
      "Start self_training\n",
      "Start self_training\n",
      "11 iterations per epoch\n",
      "11 iterations per epoch\n"
     ]
    },
    {
     "name": "stderr",
     "output_type": "stream",
     "text": [
      "\n",
      "/tmp/ipykernel_30214/1417322320.py:9: FutureWarning: You are using `torch.load` with `weights_only=False` (the current default value), which uses the default pickle module implicitly. It is possible to construct malicious pickle data which will execute arbitrary code during unpickling (See https://github.com/pytorch/pytorch/blob/main/SECURITY.md#untrusted-models for more details). In a future release, the default value for `weights_only` will be flipped to `True`. This limits the functions that could be executed during unpickling. Arbitrary objects will no longer be allowed to be loaded via this mode unless they are explicitly allowlisted by the user via `torch.serialization.add_safe_globals`. We recommend you start setting `weights_only=True` for any use case where you don't have full control of the loaded file. Please open an issue on GitHub for any issues related to this experimental feature.\n",
      "  state = torch.load(str(path))\n",
      "/tmp/ipykernel_30214/1417322320.py:13: FutureWarning: You are using `torch.load` with `weights_only=False` (the current default value), which uses the default pickle module implicitly. It is possible to construct malicious pickle data which will execute arbitrary code during unpickling (See https://github.com/pytorch/pytorch/blob/main/SECURITY.md#untrusted-models for more details). In a future release, the default value for `weights_only` will be flipped to `True`. This limits the functions that could be executed during unpickling. Arbitrary objects will no longer be allowed to be loaded via this mode unless they are explicitly allowlisted by the user via `torch.serialization.add_safe_globals`. We recommend you start setting `weights_only=True` for any use case where you don't have full control of the loaded file. Please open an issue on GitHub for any issues related to this experimental feature.\n",
      "  state = torch.load(str(path))\n",
      "  0%|                                           | 0/1 [00:00<?, ?it/s]"
     ]
    },
    {
     "name": "stdout",
     "output_type": "stream",
     "text": [
      "iteration 1: loss: 0.717569, mix_dice: 1.178169, mix_ce: 0.256968\n",
      "iteration 1: loss: 0.717569, mix_dice: 1.178169, mix_ce: 0.256968\n"
     ]
    },
    {
     "name": "stderr",
     "output_type": "stream",
     "text": [
      "/tmp/ipykernel_30214/2815246112.py:21: UserWarning: Creating a tensor from a list of numpy.ndarrays is extremely slow. Please consider converting the list to a single numpy.ndarray with numpy.array() before converting to a tensor. (Triggered internally at ../torch/csrc/utils/tensor_new.cpp:278.)\n",
      "  return torch.Tensor(batch_list).cuda()\n"
     ]
    },
    {
     "name": "stdout",
     "output_type": "stream",
     "text": [
      "iteration 2: loss: 0.908124, mix_dice: 1.512403, mix_ce: 0.303845\n",
      "iteration 2: loss: 0.908124, mix_dice: 1.512403, mix_ce: 0.303845\n",
      "iteration 3: loss: 0.777800, mix_dice: 1.337923, mix_ce: 0.217677\n",
      "iteration 3: loss: 0.777800, mix_dice: 1.337923, mix_ce: 0.217677\n",
      "iteration 4: loss: 0.908684, mix_dice: 1.538955, mix_ce: 0.278413\n",
      "iteration 4: loss: 0.908684, mix_dice: 1.538955, mix_ce: 0.278413\n",
      "iteration 5: loss: 0.840437, mix_dice: 1.450593, mix_ce: 0.230281\n",
      "iteration 5: loss: 0.840437, mix_dice: 1.450593, mix_ce: 0.230281\n",
      "iteration 6: loss: 0.788802, mix_dice: 1.386643, mix_ce: 0.190961\n",
      "iteration 6: loss: 0.788802, mix_dice: 1.386643, mix_ce: 0.190961\n",
      "iteration 7: loss: 0.751624, mix_dice: 1.317435, mix_ce: 0.185813\n",
      "iteration 7: loss: 0.751624, mix_dice: 1.317435, mix_ce: 0.185813\n",
      "iteration 8: loss: 0.886189, mix_dice: 1.543647, mix_ce: 0.228730\n",
      "iteration 8: loss: 0.886189, mix_dice: 1.543647, mix_ce: 0.228730\n",
      "iteration 9: loss: 0.835229, mix_dice: 1.451798, mix_ce: 0.218660\n",
      "iteration 9: loss: 0.835229, mix_dice: 1.451798, mix_ce: 0.218660\n",
      "iteration 10: loss: 0.868077, mix_dice: 1.519288, mix_ce: 0.216865\n",
      "iteration 10: loss: 0.868077, mix_dice: 1.519288, mix_ce: 0.216865\n"
     ]
    },
    {
     "name": "stderr",
     "output_type": "stream",
     "text": [
      "  0%|                                           | 0/1 [00:02<?, ?it/s]\n"
     ]
    }
   ],
   "source": [
    "# Params \n",
    "class params: \n",
    "    def __init__(self): \n",
    "        self.root_dir = 'ACDC' \n",
    "        self.exp = 'BCP' \n",
    "        self.model = 'unet' \n",
    "        self.pretrain_iterations = 400 \n",
    "        \n",
    "        self.selftrain_iterations = 10 \n",
    "        self.batch_size = 24\n",
    "        self.deterministic = 1 # What the fucck here\n",
    "        self.base_lr = 0.01 \n",
    "        self.patch_size = [256,256] \n",
    "        self.seed = 42 \n",
    "        self.num_classes = 4 \n",
    "\n",
    "        # label and unlabel \n",
    "        self.labeled_bs = 12\n",
    "        self.label_num = 7 \n",
    "        self.u_weight = 0.5 \n",
    "\n",
    "        # Cost \n",
    "        self.gpu = '0' \n",
    "        self.consistency = 0.1\n",
    "        self.consistency_rampup = 200.0 \n",
    "        self.magnitude = '6.0' \n",
    "        self.s_param = 6 \n",
    "\n",
    "\n",
    "args = params()\n",
    "# Trainig process \n",
    "if args.deterministic: \n",
    "    cudnn.benchmark = False \n",
    "    cudnn.deterministic = True \n",
    "    random.seed(args.seed) \n",
    "    np.random.seed(args.seed) \n",
    "    torch.manual_seed(args.seed)\n",
    "    torch.cuda.manual_seed(args.seed)\n",
    "\n",
    "# Path \n",
    "pre_snapshot_path = \"./model/BCP/ACDC_{}_{}_labeled/pretrain\".format(args.exp, args.label_num)\n",
    "self_snapshot_path = \"./model/BCP/ACDC_{}_{}_labeled/selftrain\".format(args.exp, args.label_num)\n",
    "\n",
    "print(f'Pretrain log path: {pre_snapshot_path + \"/log.txt\"}')\n",
    "print(f'Self-train log path: {self_snapshot_path + \"/log.txt\"}')\n",
    "\n",
    "for snapshot_path in [pre_snapshot_path, self_snapshot_path]: \n",
    "    if not os.path.exists(snapshot_path): \n",
    "        os.makedirs(snapshot_path, exist_ok= True)\n",
    "#Pre_train\n",
    "logging.basicConfig(filename=pre_snapshot_path+\"/log.txt\", level=logging.INFO, format='[%(asctime)s.%(msecs)03d] %(message)s', datefmt='%H:%M:%S')\n",
    "logging.getLogger().addHandler(logging.StreamHandler(sys.stdout))\n",
    "pre_train(args, pre_snapshot_path)\n",
    "\n",
    "#Self_train\n",
    "logging.basicConfig(filename=self_snapshot_path+\"/log.txt\", level=logging.INFO, format='[%(asctime)s.%(msecs)03d] %(message)s', datefmt='%H:%M:%S')\n",
    "logging.getLogger().addHandler(logging.StreamHandler(sys.stdout))\n",
    "self_train(args, pre_snapshot_path, self_snapshot_path)"
   ]
  },
  {
   "cell_type": "code",
   "execution_count": null,
   "metadata": {},
   "outputs": [],
   "source": []
  }
 ],
 "metadata": {
  "kernelspec": {
   "display_name": "DeepLearning",
   "language": "python",
   "name": "python3"
  },
  "language_info": {
   "codemirror_mode": {
    "name": "ipython",
    "version": 3
   },
   "file_extension": ".py",
   "mimetype": "text/x-python",
   "name": "python",
   "nbconvert_exporter": "python",
   "pygments_lexer": "ipython3",
   "version": "3.12.5"
  }
 },
 "nbformat": 4,
 "nbformat_minor": 2
}
